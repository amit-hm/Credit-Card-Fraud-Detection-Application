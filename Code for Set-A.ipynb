{
 "cells": [
  {
   "cell_type": "code",
   "execution_count": 37,
   "metadata": {},
   "outputs": [],
   "source": [
    "import pandas as pd\n",
    "import numpy as np\n",
    "from sklearn.model_selection import train_test_split\n",
    "from sklearn import metrics\n",
    "import matplotlib.pyplot as plt\n",
    "from sklearn.model_selection import KFold\n",
    "import math\n",
    "from sklearn.preprocessing import normalize\n",
    "from scipy.spatial import distance"
   ]
  },
  {
   "cell_type": "markdown",
   "metadata": {},
   "source": [
    "# Loading the data"
   ]
  },
  {
   "cell_type": "code",
   "execution_count": 38,
   "metadata": {},
   "outputs": [],
   "source": [
    "datasetA_X = pd.read_csv('Set-A.X.csv')\n",
    "datasetA_Y = pd.read_csv('Set-A.y.csv',names=['Pred'])"
   ]
  },
  {
   "cell_type": "markdown",
   "metadata": {},
   "source": [
    "# Exploring the data"
   ]
  },
  {
   "cell_type": "code",
   "execution_count": 39,
   "metadata": {},
   "outputs": [
    {
     "data": {
      "text/html": [
       "<div>\n",
       "<style scoped>\n",
       "    .dataframe tbody tr th:only-of-type {\n",
       "        vertical-align: middle;\n",
       "    }\n",
       "\n",
       "    .dataframe tbody tr th {\n",
       "        vertical-align: top;\n",
       "    }\n",
       "\n",
       "    .dataframe thead th {\n",
       "        text-align: right;\n",
       "    }\n",
       "</style>\n",
       "<table border=\"1\" class=\"dataframe\">\n",
       "  <thead>\n",
       "    <tr style=\"text-align: right;\">\n",
       "      <th></th>\n",
       "      <th>amount</th>\n",
       "      <th>hour1</th>\n",
       "      <th>state1</th>\n",
       "      <th>zip1</th>\n",
       "      <th>field1</th>\n",
       "      <th>domain1</th>\n",
       "      <th>field2</th>\n",
       "      <th>hour2</th>\n",
       "      <th>flag1</th>\n",
       "      <th>total</th>\n",
       "      <th>field3</th>\n",
       "      <th>field4</th>\n",
       "      <th>field5</th>\n",
       "      <th>indicator1</th>\n",
       "      <th>indicator2</th>\n",
       "      <th>flag2</th>\n",
       "      <th>flag3</th>\n",
       "      <th>flag4</th>\n",
       "      <th>flag5</th>\n",
       "    </tr>\n",
       "  </thead>\n",
       "  <tbody>\n",
       "    <tr>\n",
       "      <th>0</th>\n",
       "      <td>12.95</td>\n",
       "      <td>0</td>\n",
       "      <td>CA</td>\n",
       "      <td>925</td>\n",
       "      <td>3</td>\n",
       "      <td>AOL.COM</td>\n",
       "      <td>1</td>\n",
       "      <td>0</td>\n",
       "      <td>1</td>\n",
       "      <td>12.95</td>\n",
       "      <td>-4276</td>\n",
       "      <td>7</td>\n",
       "      <td>0</td>\n",
       "      <td>1</td>\n",
       "      <td>0</td>\n",
       "      <td>1</td>\n",
       "      <td>1</td>\n",
       "      <td>0</td>\n",
       "      <td>1</td>\n",
       "    </tr>\n",
       "    <tr>\n",
       "      <th>1</th>\n",
       "      <td>11.01</td>\n",
       "      <td>0</td>\n",
       "      <td>CA</td>\n",
       "      <td>925</td>\n",
       "      <td>3</td>\n",
       "      <td>AOL.COM</td>\n",
       "      <td>1</td>\n",
       "      <td>0</td>\n",
       "      <td>1</td>\n",
       "      <td>11.01</td>\n",
       "      <td>-4276</td>\n",
       "      <td>7</td>\n",
       "      <td>0</td>\n",
       "      <td>1</td>\n",
       "      <td>0</td>\n",
       "      <td>1</td>\n",
       "      <td>1</td>\n",
       "      <td>0</td>\n",
       "      <td>1</td>\n",
       "    </tr>\n",
       "    <tr>\n",
       "      <th>2</th>\n",
       "      <td>38.85</td>\n",
       "      <td>0</td>\n",
       "      <td>CA</td>\n",
       "      <td>928</td>\n",
       "      <td>3</td>\n",
       "      <td>HOTMAIL.COM</td>\n",
       "      <td>1</td>\n",
       "      <td>0</td>\n",
       "      <td>0</td>\n",
       "      <td>38.85</td>\n",
       "      <td>2602</td>\n",
       "      <td>21</td>\n",
       "      <td>1</td>\n",
       "      <td>0</td>\n",
       "      <td>0</td>\n",
       "      <td>0</td>\n",
       "      <td>0</td>\n",
       "      <td>0</td>\n",
       "      <td>1</td>\n",
       "    </tr>\n",
       "    <tr>\n",
       "      <th>3</th>\n",
       "      <td>25.90</td>\n",
       "      <td>0</td>\n",
       "      <td>NJ</td>\n",
       "      <td>77</td>\n",
       "      <td>0</td>\n",
       "      <td>AOL.COM</td>\n",
       "      <td>1</td>\n",
       "      <td>0</td>\n",
       "      <td>0</td>\n",
       "      <td>25.90</td>\n",
       "      <td>4139</td>\n",
       "      <td>6</td>\n",
       "      <td>0</td>\n",
       "      <td>0</td>\n",
       "      <td>0</td>\n",
       "      <td>1</td>\n",
       "      <td>1</td>\n",
       "      <td>0</td>\n",
       "      <td>1</td>\n",
       "    </tr>\n",
       "    <tr>\n",
       "      <th>4</th>\n",
       "      <td>12.95</td>\n",
       "      <td>0</td>\n",
       "      <td>CA</td>\n",
       "      <td>945</td>\n",
       "      <td>3</td>\n",
       "      <td>YAHOO.COM</td>\n",
       "      <td>0</td>\n",
       "      <td>0</td>\n",
       "      <td>1</td>\n",
       "      <td>12.95</td>\n",
       "      <td>3826</td>\n",
       "      <td>9</td>\n",
       "      <td>1</td>\n",
       "      <td>0</td>\n",
       "      <td>0</td>\n",
       "      <td>1</td>\n",
       "      <td>0</td>\n",
       "      <td>0</td>\n",
       "      <td>1</td>\n",
       "    </tr>\n",
       "  </tbody>\n",
       "</table>\n",
       "</div>"
      ],
      "text/plain": [
       "   amount  hour1 state1  zip1  field1      domain1  field2  hour2  flag1  \\\n",
       "0   12.95      0     CA   925       3      AOL.COM       1      0      1   \n",
       "1   11.01      0     CA   925       3      AOL.COM       1      0      1   \n",
       "2   38.85      0     CA   928       3  HOTMAIL.COM       1      0      0   \n",
       "3   25.90      0     NJ    77       0      AOL.COM       1      0      0   \n",
       "4   12.95      0     CA   945       3    YAHOO.COM       0      0      1   \n",
       "\n",
       "   total  field3  field4  field5  indicator1  indicator2  flag2  flag3  flag4  \\\n",
       "0  12.95   -4276       7       0           1           0      1      1      0   \n",
       "1  11.01   -4276       7       0           1           0      1      1      0   \n",
       "2  38.85    2602      21       1           0           0      0      0      0   \n",
       "3  25.90    4139       6       0           0           0      1      1      0   \n",
       "4  12.95    3826       9       1           0           0      1      0      0   \n",
       "\n",
       "   flag5  \n",
       "0      1  \n",
       "1      1  \n",
       "2      1  \n",
       "3      1  \n",
       "4      1  "
      ]
     },
     "execution_count": 39,
     "metadata": {},
     "output_type": "execute_result"
    }
   ],
   "source": [
    "datasetA_X.head()"
   ]
  },
  {
   "cell_type": "code",
   "execution_count": 40,
   "metadata": {},
   "outputs": [
    {
     "name": "stdout",
     "output_type": "stream",
     "text": [
      "<class 'pandas.core.frame.DataFrame'>\n",
      "RangeIndex: 94682 entries, 0 to 94681\n",
      "Data columns (total 19 columns):\n",
      "amount        94682 non-null float64\n",
      "hour1         94682 non-null int64\n",
      "state1        94682 non-null object\n",
      "zip1          94682 non-null int64\n",
      "field1        94682 non-null int64\n",
      "domain1       94681 non-null object\n",
      "field2        94682 non-null int64\n",
      "hour2         94682 non-null int64\n",
      "flag1         94682 non-null int64\n",
      "total         94682 non-null float64\n",
      "field3        94682 non-null int64\n",
      "field4        94682 non-null int64\n",
      "field5        94682 non-null int64\n",
      "indicator1    94682 non-null int64\n",
      "indicator2    94682 non-null int64\n",
      "flag2         94682 non-null int64\n",
      "flag3         94682 non-null int64\n",
      "flag4         94682 non-null int64\n",
      "flag5         94682 non-null int64\n",
      "dtypes: float64(2), int64(15), object(2)\n",
      "memory usage: 13.7+ MB\n"
     ]
    }
   ],
   "source": [
    "datasetA_X.info()"
   ]
  },
  {
   "cell_type": "code",
   "execution_count": 41,
   "metadata": {},
   "outputs": [
    {
     "data": {
      "text/html": [
       "<div>\n",
       "<style scoped>\n",
       "    .dataframe tbody tr th:only-of-type {\n",
       "        vertical-align: middle;\n",
       "    }\n",
       "\n",
       "    .dataframe tbody tr th {\n",
       "        vertical-align: top;\n",
       "    }\n",
       "\n",
       "    .dataframe thead th {\n",
       "        text-align: right;\n",
       "    }\n",
       "</style>\n",
       "<table border=\"1\" class=\"dataframe\">\n",
       "  <thead>\n",
       "    <tr style=\"text-align: right;\">\n",
       "      <th></th>\n",
       "      <th>amount</th>\n",
       "      <th>hour1</th>\n",
       "      <th>zip1</th>\n",
       "      <th>field1</th>\n",
       "      <th>field2</th>\n",
       "      <th>hour2</th>\n",
       "      <th>flag1</th>\n",
       "      <th>total</th>\n",
       "      <th>field3</th>\n",
       "      <th>field4</th>\n",
       "      <th>field5</th>\n",
       "      <th>indicator1</th>\n",
       "      <th>indicator2</th>\n",
       "      <th>flag2</th>\n",
       "      <th>flag3</th>\n",
       "      <th>flag4</th>\n",
       "      <th>flag5</th>\n",
       "    </tr>\n",
       "  </thead>\n",
       "  <tbody>\n",
       "    <tr>\n",
       "      <th>count</th>\n",
       "      <td>94682.000000</td>\n",
       "      <td>94682.000000</td>\n",
       "      <td>94682.000000</td>\n",
       "      <td>94682.000000</td>\n",
       "      <td>94682.000000</td>\n",
       "      <td>94682.000000</td>\n",
       "      <td>94682.000000</td>\n",
       "      <td>94682.000000</td>\n",
       "      <td>94682.000000</td>\n",
       "      <td>94682.000000</td>\n",
       "      <td>94682.000000</td>\n",
       "      <td>94682.000000</td>\n",
       "      <td>94682.000000</td>\n",
       "      <td>94682.000000</td>\n",
       "      <td>94682.000000</td>\n",
       "      <td>94682.000000</td>\n",
       "      <td>94682.000000</td>\n",
       "    </tr>\n",
       "    <tr>\n",
       "      <th>mean</th>\n",
       "      <td>25.635312</td>\n",
       "      <td>13.864726</td>\n",
       "      <td>543.243742</td>\n",
       "      <td>2.419203</td>\n",
       "      <td>0.425561</td>\n",
       "      <td>13.875858</td>\n",
       "      <td>0.546989</td>\n",
       "      <td>25.626179</td>\n",
       "      <td>714.512653</td>\n",
       "      <td>13.984115</td>\n",
       "      <td>1.375689</td>\n",
       "      <td>0.113306</td>\n",
       "      <td>0.018367</td>\n",
       "      <td>0.541127</td>\n",
       "      <td>0.401185</td>\n",
       "      <td>0.019888</td>\n",
       "      <td>6.176676</td>\n",
       "    </tr>\n",
       "    <tr>\n",
       "      <th>std</th>\n",
       "      <td>14.190485</td>\n",
       "      <td>5.263233</td>\n",
       "      <td>315.373801</td>\n",
       "      <td>1.003760</td>\n",
       "      <td>0.494430</td>\n",
       "      <td>5.258338</td>\n",
       "      <td>0.497790</td>\n",
       "      <td>14.198761</td>\n",
       "      <td>3919.325076</td>\n",
       "      <td>6.516851</td>\n",
       "      <td>2.423941</td>\n",
       "      <td>0.316968</td>\n",
       "      <td>0.134274</td>\n",
       "      <td>0.498308</td>\n",
       "      <td>0.490141</td>\n",
       "      <td>0.139615</td>\n",
       "      <td>102.977443</td>\n",
       "    </tr>\n",
       "    <tr>\n",
       "      <th>min</th>\n",
       "      <td>0.000000</td>\n",
       "      <td>0.000000</td>\n",
       "      <td>2.000000</td>\n",
       "      <td>0.000000</td>\n",
       "      <td>0.000000</td>\n",
       "      <td>0.000000</td>\n",
       "      <td>0.000000</td>\n",
       "      <td>0.000000</td>\n",
       "      <td>-32265.000000</td>\n",
       "      <td>6.000000</td>\n",
       "      <td>0.000000</td>\n",
       "      <td>0.000000</td>\n",
       "      <td>0.000000</td>\n",
       "      <td>0.000000</td>\n",
       "      <td>0.000000</td>\n",
       "      <td>0.000000</td>\n",
       "      <td>0.000000</td>\n",
       "    </tr>\n",
       "    <tr>\n",
       "      <th>25%</th>\n",
       "      <td>12.950000</td>\n",
       "      <td>10.000000</td>\n",
       "      <td>282.000000</td>\n",
       "      <td>2.000000</td>\n",
       "      <td>0.000000</td>\n",
       "      <td>11.000000</td>\n",
       "      <td>0.000000</td>\n",
       "      <td>12.950000</td>\n",
       "      <td>-1551.000000</td>\n",
       "      <td>8.000000</td>\n",
       "      <td>0.000000</td>\n",
       "      <td>0.000000</td>\n",
       "      <td>0.000000</td>\n",
       "      <td>0.000000</td>\n",
       "      <td>0.000000</td>\n",
       "      <td>0.000000</td>\n",
       "      <td>1.000000</td>\n",
       "    </tr>\n",
       "    <tr>\n",
       "      <th>50%</th>\n",
       "      <td>25.900000</td>\n",
       "      <td>14.000000</td>\n",
       "      <td>530.000000</td>\n",
       "      <td>3.000000</td>\n",
       "      <td>0.000000</td>\n",
       "      <td>14.000000</td>\n",
       "      <td>1.000000</td>\n",
       "      <td>25.900000</td>\n",
       "      <td>1455.000000</td>\n",
       "      <td>12.000000</td>\n",
       "      <td>0.000000</td>\n",
       "      <td>0.000000</td>\n",
       "      <td>0.000000</td>\n",
       "      <td>1.000000</td>\n",
       "      <td>0.000000</td>\n",
       "      <td>0.000000</td>\n",
       "      <td>1.000000</td>\n",
       "    </tr>\n",
       "    <tr>\n",
       "      <th>75%</th>\n",
       "      <td>38.850000</td>\n",
       "      <td>18.000000</td>\n",
       "      <td>891.000000</td>\n",
       "      <td>3.000000</td>\n",
       "      <td>1.000000</td>\n",
       "      <td>18.000000</td>\n",
       "      <td>1.000000</td>\n",
       "      <td>38.850000</td>\n",
       "      <td>3598.000000</td>\n",
       "      <td>19.000000</td>\n",
       "      <td>2.000000</td>\n",
       "      <td>0.000000</td>\n",
       "      <td>0.000000</td>\n",
       "      <td>1.000000</td>\n",
       "      <td>1.000000</td>\n",
       "      <td>0.000000</td>\n",
       "      <td>1.000000</td>\n",
       "    </tr>\n",
       "    <tr>\n",
       "      <th>max</th>\n",
       "      <td>95.400000</td>\n",
       "      <td>23.000000</td>\n",
       "      <td>999.000000</td>\n",
       "      <td>4.000000</td>\n",
       "      <td>1.000000</td>\n",
       "      <td>23.000000</td>\n",
       "      <td>1.000000</td>\n",
       "      <td>95.400000</td>\n",
       "      <td>8193.000000</td>\n",
       "      <td>46.000000</td>\n",
       "      <td>26.000000</td>\n",
       "      <td>1.000000</td>\n",
       "      <td>1.000000</td>\n",
       "      <td>1.000000</td>\n",
       "      <td>1.000000</td>\n",
       "      <td>1.000000</td>\n",
       "      <td>3278.000000</td>\n",
       "    </tr>\n",
       "  </tbody>\n",
       "</table>\n",
       "</div>"
      ],
      "text/plain": [
       "             amount         hour1          zip1        field1        field2  \\\n",
       "count  94682.000000  94682.000000  94682.000000  94682.000000  94682.000000   \n",
       "mean      25.635312     13.864726    543.243742      2.419203      0.425561   \n",
       "std       14.190485      5.263233    315.373801      1.003760      0.494430   \n",
       "min        0.000000      0.000000      2.000000      0.000000      0.000000   \n",
       "25%       12.950000     10.000000    282.000000      2.000000      0.000000   \n",
       "50%       25.900000     14.000000    530.000000      3.000000      0.000000   \n",
       "75%       38.850000     18.000000    891.000000      3.000000      1.000000   \n",
       "max       95.400000     23.000000    999.000000      4.000000      1.000000   \n",
       "\n",
       "              hour2         flag1         total        field3        field4  \\\n",
       "count  94682.000000  94682.000000  94682.000000  94682.000000  94682.000000   \n",
       "mean      13.875858      0.546989     25.626179    714.512653     13.984115   \n",
       "std        5.258338      0.497790     14.198761   3919.325076      6.516851   \n",
       "min        0.000000      0.000000      0.000000 -32265.000000      6.000000   \n",
       "25%       11.000000      0.000000     12.950000  -1551.000000      8.000000   \n",
       "50%       14.000000      1.000000     25.900000   1455.000000     12.000000   \n",
       "75%       18.000000      1.000000     38.850000   3598.000000     19.000000   \n",
       "max       23.000000      1.000000     95.400000   8193.000000     46.000000   \n",
       "\n",
       "             field5    indicator1    indicator2         flag2         flag3  \\\n",
       "count  94682.000000  94682.000000  94682.000000  94682.000000  94682.000000   \n",
       "mean       1.375689      0.113306      0.018367      0.541127      0.401185   \n",
       "std        2.423941      0.316968      0.134274      0.498308      0.490141   \n",
       "min        0.000000      0.000000      0.000000      0.000000      0.000000   \n",
       "25%        0.000000      0.000000      0.000000      0.000000      0.000000   \n",
       "50%        0.000000      0.000000      0.000000      1.000000      0.000000   \n",
       "75%        2.000000      0.000000      0.000000      1.000000      1.000000   \n",
       "max       26.000000      1.000000      1.000000      1.000000      1.000000   \n",
       "\n",
       "              flag4         flag5  \n",
       "count  94682.000000  94682.000000  \n",
       "mean       0.019888      6.176676  \n",
       "std        0.139615    102.977443  \n",
       "min        0.000000      0.000000  \n",
       "25%        0.000000      1.000000  \n",
       "50%        0.000000      1.000000  \n",
       "75%        0.000000      1.000000  \n",
       "max        1.000000   3278.000000  "
      ]
     },
     "execution_count": 41,
     "metadata": {},
     "output_type": "execute_result"
    }
   ],
   "source": [
    "datasetA_X.describe()"
   ]
  },
  {
   "cell_type": "code",
   "execution_count": 42,
   "metadata": {},
   "outputs": [
    {
     "data": {
      "text/plain": [
       "(94682, 19)"
      ]
     },
     "execution_count": 42,
     "metadata": {},
     "output_type": "execute_result"
    }
   ],
   "source": [
    "datasetA_X.shape"
   ]
  },
  {
   "cell_type": "code",
   "execution_count": 43,
   "metadata": {},
   "outputs": [
    {
     "data": {
      "text/html": [
       "<div>\n",
       "<style scoped>\n",
       "    .dataframe tbody tr th:only-of-type {\n",
       "        vertical-align: middle;\n",
       "    }\n",
       "\n",
       "    .dataframe tbody tr th {\n",
       "        vertical-align: top;\n",
       "    }\n",
       "\n",
       "    .dataframe thead th {\n",
       "        text-align: right;\n",
       "    }\n",
       "</style>\n",
       "<table border=\"1\" class=\"dataframe\">\n",
       "  <thead>\n",
       "    <tr style=\"text-align: right;\">\n",
       "      <th></th>\n",
       "      <th>Pred</th>\n",
       "    </tr>\n",
       "  </thead>\n",
       "  <tbody>\n",
       "    <tr>\n",
       "      <th>count</th>\n",
       "      <td>94682.000000</td>\n",
       "    </tr>\n",
       "    <tr>\n",
       "      <th>mean</th>\n",
       "      <td>0.022116</td>\n",
       "    </tr>\n",
       "    <tr>\n",
       "      <th>std</th>\n",
       "      <td>0.147062</td>\n",
       "    </tr>\n",
       "    <tr>\n",
       "      <th>min</th>\n",
       "      <td>0.000000</td>\n",
       "    </tr>\n",
       "    <tr>\n",
       "      <th>25%</th>\n",
       "      <td>0.000000</td>\n",
       "    </tr>\n",
       "    <tr>\n",
       "      <th>50%</th>\n",
       "      <td>0.000000</td>\n",
       "    </tr>\n",
       "    <tr>\n",
       "      <th>75%</th>\n",
       "      <td>0.000000</td>\n",
       "    </tr>\n",
       "    <tr>\n",
       "      <th>max</th>\n",
       "      <td>1.000000</td>\n",
       "    </tr>\n",
       "  </tbody>\n",
       "</table>\n",
       "</div>"
      ],
      "text/plain": [
       "               Pred\n",
       "count  94682.000000\n",
       "mean       0.022116\n",
       "std        0.147062\n",
       "min        0.000000\n",
       "25%        0.000000\n",
       "50%        0.000000\n",
       "75%        0.000000\n",
       "max        1.000000"
      ]
     },
     "execution_count": 43,
     "metadata": {},
     "output_type": "execute_result"
    }
   ],
   "source": [
    "datasetA_Y.describe()"
   ]
  },
  {
   "cell_type": "code",
   "execution_count": 44,
   "metadata": {},
   "outputs": [
    {
     "data": {
      "text/plain": [
       "Pred    2094\n",
       "dtype: int64"
      ]
     },
     "execution_count": 44,
     "metadata": {},
     "output_type": "execute_result"
    }
   ],
   "source": [
    "datasetA_Y.sum()"
   ]
  },
  {
   "cell_type": "code",
   "execution_count": 45,
   "metadata": {},
   "outputs": [
    {
     "data": {
      "text/plain": [
       "0"
      ]
     },
     "execution_count": 45,
     "metadata": {},
     "output_type": "execute_result"
    }
   ],
   "source": [
    "datasetA_Y['Pred'].isnull().values.sum()"
   ]
  },
  {
   "cell_type": "markdown",
   "metadata": {},
   "source": [
    "# Dealing with null values"
   ]
  },
  {
   "cell_type": "code",
   "execution_count": 46,
   "metadata": {},
   "outputs": [
    {
     "data": {
      "text/plain": [
       "1"
      ]
     },
     "execution_count": 46,
     "metadata": {},
     "output_type": "execute_result"
    }
   ],
   "source": [
    "datasetA_X['domain1'].isnull().values.sum()"
   ]
  },
  {
   "cell_type": "code",
   "execution_count": 47,
   "metadata": {},
   "outputs": [
    {
     "data": {
      "text/plain": [
       "AOL.COM        16451\n",
       "YAHOO.COM      15814\n",
       "HOTMAIL.COM    11544\n",
       "MSN.COM         4029\n",
       "COMCAST.NET     3918\n",
       "Name: domain1, dtype: int64"
      ]
     },
     "execution_count": 47,
     "metadata": {},
     "output_type": "execute_result"
    }
   ],
   "source": [
    "#unique categories\n",
    "datasetA_X['domain1'].value_counts().head()"
   ]
  },
  {
   "cell_type": "code",
   "execution_count": 48,
   "metadata": {},
   "outputs": [],
   "source": [
    " datasetA_X['domain1']=datasetA_X['domain1'].fillna('AOL.COM')"
   ]
  },
  {
   "cell_type": "code",
   "execution_count": 49,
   "metadata": {},
   "outputs": [
    {
     "data": {
      "text/plain": [
       "0"
      ]
     },
     "execution_count": 49,
     "metadata": {},
     "output_type": "execute_result"
    }
   ],
   "source": [
    "datasetA_X['domain1'].isnull().values.sum()"
   ]
  },
  {
   "cell_type": "markdown",
   "metadata": {},
   "source": [
    "# Inserting dummy variables"
   ]
  },
  {
   "cell_type": "code",
   "execution_count": 50,
   "metadata": {},
   "outputs": [
    {
     "data": {
      "text/plain": [
       "0     277\n",
       "1     277\n",
       "2    3022\n",
       "3     277\n",
       "4    9147\n",
       "Name: domain1, dtype: int64"
      ]
     },
     "execution_count": 50,
     "metadata": {},
     "output_type": "execute_result"
    }
   ],
   "source": [
    "labels = datasetA_X['domain1'].astype('category').cat.categories.tolist()\n",
    "replace_map_comp = {'domain1' : {k: v for k,v in zip(labels,list(range(1,len(labels)+1)))}}\n",
    "datasetA_X.replace(replace_map_comp, inplace=True)\n",
    "datasetA_X['domain1'].astype('int64')[:5]"
   ]
  },
  {
   "cell_type": "code",
   "execution_count": 51,
   "metadata": {},
   "outputs": [
    {
     "data": {
      "text/plain": [
       "0     7\n",
       "1     7\n",
       "2     7\n",
       "3    34\n",
       "4     7\n",
       "Name: state1, dtype: int64"
      ]
     },
     "execution_count": 51,
     "metadata": {},
     "output_type": "execute_result"
    }
   ],
   "source": [
    "labels1 = datasetA_X['state1'].astype('category').cat.categories.tolist()\n",
    "replace_map_comp1 = {'state1' : {k: v for k,v in zip(labels1,list(range(1,len(labels1)+1)))}}\n",
    "datasetA_X.replace(replace_map_comp1, inplace=True)\n",
    "datasetA_X['state1'].astype('int64')[:5]"
   ]
  },
  {
   "cell_type": "code",
   "execution_count": 52,
   "metadata": {},
   "outputs": [
    {
     "data": {
      "text/html": [
       "<div>\n",
       "<style scoped>\n",
       "    .dataframe tbody tr th:only-of-type {\n",
       "        vertical-align: middle;\n",
       "    }\n",
       "\n",
       "    .dataframe tbody tr th {\n",
       "        vertical-align: top;\n",
       "    }\n",
       "\n",
       "    .dataframe thead th {\n",
       "        text-align: right;\n",
       "    }\n",
       "</style>\n",
       "<table border=\"1\" class=\"dataframe\">\n",
       "  <thead>\n",
       "    <tr style=\"text-align: right;\">\n",
       "      <th></th>\n",
       "      <th>amount</th>\n",
       "      <th>hour1</th>\n",
       "      <th>state1</th>\n",
       "      <th>zip1</th>\n",
       "      <th>field1</th>\n",
       "      <th>domain1</th>\n",
       "      <th>field2</th>\n",
       "      <th>hour2</th>\n",
       "      <th>flag1</th>\n",
       "      <th>total</th>\n",
       "      <th>field3</th>\n",
       "      <th>field4</th>\n",
       "      <th>field5</th>\n",
       "      <th>indicator1</th>\n",
       "      <th>indicator2</th>\n",
       "      <th>flag2</th>\n",
       "      <th>flag3</th>\n",
       "      <th>flag4</th>\n",
       "      <th>flag5</th>\n",
       "    </tr>\n",
       "  </thead>\n",
       "  <tbody>\n",
       "    <tr>\n",
       "      <th>94677</th>\n",
       "      <td>38.85</td>\n",
       "      <td>20</td>\n",
       "      <td>25</td>\n",
       "      <td>481</td>\n",
       "      <td>3</td>\n",
       "      <td>277</td>\n",
       "      <td>1</td>\n",
       "      <td>20</td>\n",
       "      <td>0</td>\n",
       "      <td>38.85</td>\n",
       "      <td>-5821</td>\n",
       "      <td>6</td>\n",
       "      <td>2</td>\n",
       "      <td>0</td>\n",
       "      <td>0</td>\n",
       "      <td>1</td>\n",
       "      <td>1</td>\n",
       "      <td>0</td>\n",
       "      <td>3</td>\n",
       "    </tr>\n",
       "    <tr>\n",
       "      <th>94678</th>\n",
       "      <td>12.95</td>\n",
       "      <td>16</td>\n",
       "      <td>13</td>\n",
       "      <td>300</td>\n",
       "      <td>2</td>\n",
       "      <td>3022</td>\n",
       "      <td>0</td>\n",
       "      <td>16</td>\n",
       "      <td>1</td>\n",
       "      <td>12.95</td>\n",
       "      <td>182</td>\n",
       "      <td>9</td>\n",
       "      <td>9</td>\n",
       "      <td>0</td>\n",
       "      <td>0</td>\n",
       "      <td>1</td>\n",
       "      <td>1</td>\n",
       "      <td>0</td>\n",
       "      <td>1</td>\n",
       "    </tr>\n",
       "    <tr>\n",
       "      <th>94679</th>\n",
       "      <td>38.85</td>\n",
       "      <td>5</td>\n",
       "      <td>7</td>\n",
       "      <td>906</td>\n",
       "      <td>2</td>\n",
       "      <td>277</td>\n",
       "      <td>1</td>\n",
       "      <td>5</td>\n",
       "      <td>0</td>\n",
       "      <td>38.85</td>\n",
       "      <td>-2914</td>\n",
       "      <td>8</td>\n",
       "      <td>2</td>\n",
       "      <td>0</td>\n",
       "      <td>0</td>\n",
       "      <td>1</td>\n",
       "      <td>1</td>\n",
       "      <td>0</td>\n",
       "      <td>3</td>\n",
       "    </tr>\n",
       "    <tr>\n",
       "      <th>94680</th>\n",
       "      <td>38.85</td>\n",
       "      <td>6</td>\n",
       "      <td>37</td>\n",
       "      <td>105</td>\n",
       "      <td>2</td>\n",
       "      <td>277</td>\n",
       "      <td>0</td>\n",
       "      <td>6</td>\n",
       "      <td>0</td>\n",
       "      <td>38.85</td>\n",
       "      <td>1530</td>\n",
       "      <td>7</td>\n",
       "      <td>2</td>\n",
       "      <td>0</td>\n",
       "      <td>0</td>\n",
       "      <td>1</td>\n",
       "      <td>1</td>\n",
       "      <td>0</td>\n",
       "      <td>1</td>\n",
       "    </tr>\n",
       "    <tr>\n",
       "      <th>94681</th>\n",
       "      <td>38.85</td>\n",
       "      <td>19</td>\n",
       "      <td>6</td>\n",
       "      <td>857</td>\n",
       "      <td>2</td>\n",
       "      <td>277</td>\n",
       "      <td>0</td>\n",
       "      <td>19</td>\n",
       "      <td>0</td>\n",
       "      <td>38.85</td>\n",
       "      <td>-676</td>\n",
       "      <td>8</td>\n",
       "      <td>2</td>\n",
       "      <td>0</td>\n",
       "      <td>0</td>\n",
       "      <td>1</td>\n",
       "      <td>1</td>\n",
       "      <td>0</td>\n",
       "      <td>4</td>\n",
       "    </tr>\n",
       "  </tbody>\n",
       "</table>\n",
       "</div>"
      ],
      "text/plain": [
       "       amount  hour1  state1  zip1  field1  domain1  field2  hour2  flag1  \\\n",
       "94677   38.85     20      25   481       3      277       1     20      0   \n",
       "94678   12.95     16      13   300       2     3022       0     16      1   \n",
       "94679   38.85      5       7   906       2      277       1      5      0   \n",
       "94680   38.85      6      37   105       2      277       0      6      0   \n",
       "94681   38.85     19       6   857       2      277       0     19      0   \n",
       "\n",
       "       total  field3  field4  field5  indicator1  indicator2  flag2  flag3  \\\n",
       "94677  38.85   -5821       6       2           0           0      1      1   \n",
       "94678  12.95     182       9       9           0           0      1      1   \n",
       "94679  38.85   -2914       8       2           0           0      1      1   \n",
       "94680  38.85    1530       7       2           0           0      1      1   \n",
       "94681  38.85    -676       8       2           0           0      1      1   \n",
       "\n",
       "       flag4  flag5  \n",
       "94677      0      3  \n",
       "94678      0      1  \n",
       "94679      0      3  \n",
       "94680      0      1  \n",
       "94681      0      4  "
      ]
     },
     "execution_count": 52,
     "metadata": {},
     "output_type": "execute_result"
    }
   ],
   "source": [
    "datasetA_X.tail()"
   ]
  },
  {
   "cell_type": "code",
   "execution_count": 53,
   "metadata": {},
   "outputs": [
    {
     "data": {
      "text/html": [
       "<div>\n",
       "<style scoped>\n",
       "    .dataframe tbody tr th:only-of-type {\n",
       "        vertical-align: middle;\n",
       "    }\n",
       "\n",
       "    .dataframe tbody tr th {\n",
       "        vertical-align: top;\n",
       "    }\n",
       "\n",
       "    .dataframe thead th {\n",
       "        text-align: right;\n",
       "    }\n",
       "</style>\n",
       "<table border=\"1\" class=\"dataframe\">\n",
       "  <thead>\n",
       "    <tr style=\"text-align: right;\">\n",
       "      <th></th>\n",
       "      <th>Pred</th>\n",
       "    </tr>\n",
       "  </thead>\n",
       "  <tbody>\n",
       "    <tr>\n",
       "      <th>94677</th>\n",
       "      <td>0</td>\n",
       "    </tr>\n",
       "    <tr>\n",
       "      <th>94678</th>\n",
       "      <td>0</td>\n",
       "    </tr>\n",
       "    <tr>\n",
       "      <th>94679</th>\n",
       "      <td>1</td>\n",
       "    </tr>\n",
       "    <tr>\n",
       "      <th>94680</th>\n",
       "      <td>1</td>\n",
       "    </tr>\n",
       "    <tr>\n",
       "      <th>94681</th>\n",
       "      <td>1</td>\n",
       "    </tr>\n",
       "  </tbody>\n",
       "</table>\n",
       "</div>"
      ],
      "text/plain": [
       "       Pred\n",
       "94677     0\n",
       "94678     0\n",
       "94679     1\n",
       "94680     1\n",
       "94681     1"
      ]
     },
     "execution_count": 53,
     "metadata": {},
     "output_type": "execute_result"
    }
   ],
   "source": [
    "datasetA_Y.tail()"
   ]
  },
  {
   "cell_type": "markdown",
   "metadata": {},
   "source": [
    "# Correlation"
   ]
  },
  {
   "cell_type": "code",
   "execution_count": 54,
   "metadata": {},
   "outputs": [
    {
     "data": {
      "text/plain": [
       "amount        0.023544\n",
       "hour1         0.161298\n",
       "state1        0.016710\n",
       "zip1          0.023073\n",
       "field1        0.091811\n",
       "domain1       0.005172\n",
       "field2        0.004085\n",
       "hour2         0.159964\n",
       "flag1         0.024728\n",
       "total         0.023827\n",
       "field3        0.065734\n",
       "field4        0.056951\n",
       "field5        0.023001\n",
       "indicator1    0.017840\n",
       "indicator2    0.002963\n",
       "flag2         0.007765\n",
       "flag3         0.079112\n",
       "flag4         0.039792\n",
       "flag5         0.078440\n",
       "dtype: float64"
      ]
     },
     "execution_count": 54,
     "metadata": {},
     "output_type": "execute_result"
    }
   ],
   "source": [
    "CORR=datasetA_X.corrwith(datasetA_Y['Pred'],0).abs()\n",
    "CORR"
   ]
  },
  {
   "cell_type": "markdown",
   "metadata": {},
   "source": [
    "# Merging X and Y"
   ]
  },
  {
   "cell_type": "code",
   "execution_count": 55,
   "metadata": {},
   "outputs": [
    {
     "data": {
      "text/html": [
       "<div>\n",
       "<style scoped>\n",
       "    .dataframe tbody tr th:only-of-type {\n",
       "        vertical-align: middle;\n",
       "    }\n",
       "\n",
       "    .dataframe tbody tr th {\n",
       "        vertical-align: top;\n",
       "    }\n",
       "\n",
       "    .dataframe thead th {\n",
       "        text-align: right;\n",
       "    }\n",
       "</style>\n",
       "<table border=\"1\" class=\"dataframe\">\n",
       "  <thead>\n",
       "    <tr style=\"text-align: right;\">\n",
       "      <th></th>\n",
       "      <th>amount</th>\n",
       "      <th>hour1</th>\n",
       "      <th>state1</th>\n",
       "      <th>zip1</th>\n",
       "      <th>field1</th>\n",
       "      <th>domain1</th>\n",
       "      <th>field2</th>\n",
       "      <th>hour2</th>\n",
       "      <th>flag1</th>\n",
       "      <th>total</th>\n",
       "      <th>field3</th>\n",
       "      <th>field4</th>\n",
       "      <th>field5</th>\n",
       "      <th>indicator1</th>\n",
       "      <th>indicator2</th>\n",
       "      <th>flag2</th>\n",
       "      <th>flag3</th>\n",
       "      <th>flag4</th>\n",
       "      <th>flag5</th>\n",
       "      <th>Pred</th>\n",
       "    </tr>\n",
       "  </thead>\n",
       "  <tbody>\n",
       "    <tr>\n",
       "      <th>0</th>\n",
       "      <td>12.95</td>\n",
       "      <td>0</td>\n",
       "      <td>7</td>\n",
       "      <td>925</td>\n",
       "      <td>3</td>\n",
       "      <td>277</td>\n",
       "      <td>1</td>\n",
       "      <td>0</td>\n",
       "      <td>1</td>\n",
       "      <td>12.95</td>\n",
       "      <td>-4276</td>\n",
       "      <td>7</td>\n",
       "      <td>0</td>\n",
       "      <td>1</td>\n",
       "      <td>0</td>\n",
       "      <td>1</td>\n",
       "      <td>1</td>\n",
       "      <td>0</td>\n",
       "      <td>1</td>\n",
       "      <td>0</td>\n",
       "    </tr>\n",
       "    <tr>\n",
       "      <th>1</th>\n",
       "      <td>11.01</td>\n",
       "      <td>0</td>\n",
       "      <td>7</td>\n",
       "      <td>925</td>\n",
       "      <td>3</td>\n",
       "      <td>277</td>\n",
       "      <td>1</td>\n",
       "      <td>0</td>\n",
       "      <td>1</td>\n",
       "      <td>11.01</td>\n",
       "      <td>-4276</td>\n",
       "      <td>7</td>\n",
       "      <td>0</td>\n",
       "      <td>1</td>\n",
       "      <td>0</td>\n",
       "      <td>1</td>\n",
       "      <td>1</td>\n",
       "      <td>0</td>\n",
       "      <td>1</td>\n",
       "      <td>0</td>\n",
       "    </tr>\n",
       "    <tr>\n",
       "      <th>2</th>\n",
       "      <td>38.85</td>\n",
       "      <td>0</td>\n",
       "      <td>7</td>\n",
       "      <td>928</td>\n",
       "      <td>3</td>\n",
       "      <td>3022</td>\n",
       "      <td>1</td>\n",
       "      <td>0</td>\n",
       "      <td>0</td>\n",
       "      <td>38.85</td>\n",
       "      <td>2602</td>\n",
       "      <td>21</td>\n",
       "      <td>1</td>\n",
       "      <td>0</td>\n",
       "      <td>0</td>\n",
       "      <td>0</td>\n",
       "      <td>0</td>\n",
       "      <td>0</td>\n",
       "      <td>1</td>\n",
       "      <td>0</td>\n",
       "    </tr>\n",
       "    <tr>\n",
       "      <th>3</th>\n",
       "      <td>25.90</td>\n",
       "      <td>0</td>\n",
       "      <td>34</td>\n",
       "      <td>77</td>\n",
       "      <td>0</td>\n",
       "      <td>277</td>\n",
       "      <td>1</td>\n",
       "      <td>0</td>\n",
       "      <td>0</td>\n",
       "      <td>25.90</td>\n",
       "      <td>4139</td>\n",
       "      <td>6</td>\n",
       "      <td>0</td>\n",
       "      <td>0</td>\n",
       "      <td>0</td>\n",
       "      <td>1</td>\n",
       "      <td>1</td>\n",
       "      <td>0</td>\n",
       "      <td>1</td>\n",
       "      <td>0</td>\n",
       "    </tr>\n",
       "    <tr>\n",
       "      <th>4</th>\n",
       "      <td>12.95</td>\n",
       "      <td>0</td>\n",
       "      <td>7</td>\n",
       "      <td>945</td>\n",
       "      <td>3</td>\n",
       "      <td>9147</td>\n",
       "      <td>0</td>\n",
       "      <td>0</td>\n",
       "      <td>1</td>\n",
       "      <td>12.95</td>\n",
       "      <td>3826</td>\n",
       "      <td>9</td>\n",
       "      <td>1</td>\n",
       "      <td>0</td>\n",
       "      <td>0</td>\n",
       "      <td>1</td>\n",
       "      <td>0</td>\n",
       "      <td>0</td>\n",
       "      <td>1</td>\n",
       "      <td>0</td>\n",
       "    </tr>\n",
       "  </tbody>\n",
       "</table>\n",
       "</div>"
      ],
      "text/plain": [
       "   amount  hour1  state1  zip1  field1  domain1  field2  hour2  flag1  total  \\\n",
       "0   12.95      0       7   925       3      277       1      0      1  12.95   \n",
       "1   11.01      0       7   925       3      277       1      0      1  11.01   \n",
       "2   38.85      0       7   928       3     3022       1      0      0  38.85   \n",
       "3   25.90      0      34    77       0      277       1      0      0  25.90   \n",
       "4   12.95      0       7   945       3     9147       0      0      1  12.95   \n",
       "\n",
       "   field3  field4  field5  indicator1  indicator2  flag2  flag3  flag4  flag5  \\\n",
       "0   -4276       7       0           1           0      1      1      0      1   \n",
       "1   -4276       7       0           1           0      1      1      0      1   \n",
       "2    2602      21       1           0           0      0      0      0      1   \n",
       "3    4139       6       0           0           0      1      1      0      1   \n",
       "4    3826       9       1           0           0      1      0      0      1   \n",
       "\n",
       "   Pred  \n",
       "0     0  \n",
       "1     0  \n",
       "2     0  \n",
       "3     0  \n",
       "4     0  "
      ]
     },
     "execution_count": 55,
     "metadata": {},
     "output_type": "execute_result"
    }
   ],
   "source": [
    "datasetA=datasetA_X\n",
    "datasetA['Pred']=datasetA_Y['Pred']\n",
    "datasetA['Pred'].astype('int64')\n",
    "datasetA.head()"
   ]
  },
  {
   "cell_type": "markdown",
   "metadata": {},
   "source": [
    "# Splitting the data"
   ]
  },
  {
   "cell_type": "code",
   "execution_count": 56,
   "metadata": {},
   "outputs": [],
   "source": [
    "trainA, testA = train_test_split(datasetA, test_size=0.2)"
   ]
  },
  {
   "cell_type": "code",
   "execution_count": 57,
   "metadata": {},
   "outputs": [],
   "source": [
    "trainA_X=trainA.iloc[:,0:-1]\n",
    "trainA_Y=trainA.iloc[:,-1:]"
   ]
  },
  {
   "cell_type": "code",
   "execution_count": 58,
   "metadata": {},
   "outputs": [],
   "source": [
    "testA_X=testA.iloc[:,0:-1]\n",
    "testA_Y=testA.iloc[:,-1:]"
   ]
  },
  {
   "cell_type": "markdown",
   "metadata": {},
   "source": [
    "# Normalizing the data (min-max)"
   ]
  },
  {
   "cell_type": "code",
   "execution_count": 59,
   "metadata": {},
   "outputs": [],
   "source": [
    "norm_trainA=(trainA-trainA.min())/(trainA.max()-trainA.min())"
   ]
  },
  {
   "cell_type": "code",
   "execution_count": 60,
   "metadata": {},
   "outputs": [
    {
     "data": {
      "text/plain": [
       "(75745, 20)"
      ]
     },
     "execution_count": 60,
     "metadata": {},
     "output_type": "execute_result"
    }
   ],
   "source": [
    "norm_trainA.shape"
   ]
  },
  {
   "cell_type": "code",
   "execution_count": 61,
   "metadata": {},
   "outputs": [],
   "source": [
    "norm_testA=(testA-testA.min())/(testA.max()-testA.min())"
   ]
  },
  {
   "cell_type": "code",
   "execution_count": 62,
   "metadata": {},
   "outputs": [
    {
     "data": {
      "text/plain": [
       "(18937, 20)"
      ]
     },
     "execution_count": 62,
     "metadata": {},
     "output_type": "execute_result"
    }
   ],
   "source": [
    "norm_testA.shape"
   ]
  },
  {
   "cell_type": "markdown",
   "metadata": {},
   "source": [
    "# Logistic regression"
   ]
  },
  {
   "cell_type": "code",
   "execution_count": 63,
   "metadata": {},
   "outputs": [],
   "source": [
    "X_trainA=norm_trainA.iloc[:,0:-1]\n",
    "ones = np.ones([X_trainA.shape[0],1])\n",
    "X_trainA = np.concatenate((ones,X_trainA),axis=1)\n",
    "\n",
    "y_trainA = norm_trainA.iloc[:,-1:].values"
   ]
  },
  {
   "cell_type": "code",
   "execution_count": 136,
   "metadata": {},
   "outputs": [],
   "source": [
    "def sigmoid(x):\n",
    "    # Activation function used to map any real value between 0 and 1\n",
    "    return 1 / (1 + np.exp(-x))\n",
    "\n",
    "def net_input(theta, x):\n",
    "    # Computes the weighted sum of inputs\n",
    "    return np.dot(x, theta)\n",
    "\n",
    "def probability(theta, x):\n",
    "    # Returns the probability after passing through sigmoid\n",
    "    return sigmoid(net_input(theta, x))\n",
    "\n",
    "def computeCost(x, y,theta):\n",
    "    # Computes the cost function for all the training samples\n",
    "    m = x.shape[0]\n",
    "    total_cost = -(1 / m) * np.sum(y * np.log(probability(theta, x)) + (1 - y) * np.log(1 - probability(theta, x)))\n",
    "    return total_cost"
   ]
  },
  {
   "cell_type": "code",
   "execution_count": 137,
   "metadata": {},
   "outputs": [],
   "source": [
    "def minigradientDescent(X,y,theta,iters,alpha):\n",
    "    #cost = np.zeros(iters)\n",
    "    for i in range(iters):\n",
    "        for n in range(0,len(X),128):\n",
    "            m = 128\n",
    "            grad= (1 / m) * np.dot(X[n:(n+128)].T, sigmoid(net_input(theta,   X[n:(n+128)])) - y[n:(n+128)])\n",
    "\n",
    "            theta = theta - (alpha * grad)\n",
    "\n",
    "            cost = computeCost(X[n:(n+128)], y[n:(n+128)], theta)\n",
    "    return theta,cost"
   ]
  },
  {
   "cell_type": "code",
   "execution_count": 138,
   "metadata": {},
   "outputs": [],
   "source": [
    "alpha=0.1\n",
    "iters=100\n",
    "theta = np.zeros((X_trainA.shape[1],1))"
   ]
  },
  {
   "cell_type": "code",
   "execution_count": 139,
   "metadata": {},
   "outputs": [],
   "source": [
    "kf = KFold(n_splits = 10, random_state = None, shuffle = False)\n",
    "accuracy_list = []\n",
    "tc = []\n",
    "for train_in, test_in in kf.split(X_trainA):\n",
    "    x = X_trainA[train_in]\n",
    "    y = y_trainA[train_in]\n",
    "    x_te = X_trainA[test_in]\n",
    "    y_te = y_trainA[test_in]\n",
    "    theta, cost = minigradientDescent(x,y,theta,iters,alpha)\n",
    "    \n",
    "    y_pred = probability(theta, x_te)\n",
    "    y_pred[y_pred>0.5]=1\n",
    "    y_pred[y_pred<=0.5]=0\n",
    "    \n",
    "    TP=0;FN=0;FP=0;TN=0\n",
    "    for i in range(0,len(y_pred)):\n",
    "        if ((y_pred[i]==1)&(y_te[i]==1)):\n",
    "            TP=TP+1\n",
    "        if ((y_pred[i]==0)&(y_te[i]==1)):\n",
    "            FN=FN+1\n",
    "        if ((y_pred[i]==1)&(y_te[i]==0)):\n",
    "            FP=FP+1\n",
    "        if ((y_pred[i]==0)&(y_te[i]==0)):\n",
    "            TN=TN+1\n",
    "\n",
    "    Accuracy=(TP+TN)/(TP+TN+FP+FN)\n",
    "    accuracy_list.append(Accuracy)"
   ]
  },
  {
   "cell_type": "code",
   "execution_count": 140,
   "metadata": {},
   "outputs": [
    {
     "data": {
      "text/plain": [
       "[0.9805940594059406,\n",
       " 0.9782178217821782,\n",
       " 0.9786138613861386,\n",
       " 0.9786138613861386,\n",
       " 0.9761056105610562,\n",
       " 0.9804594665962504,\n",
       " 0.9791391602851862,\n",
       " 0.9775547927119091,\n",
       " 0.9795352521785055,\n",
       " 0.980063374702931]"
      ]
     },
     "execution_count": 140,
     "metadata": {},
     "output_type": "execute_result"
    }
   ],
   "source": [
    "accuracy_list"
   ]
  },
  {
   "cell_type": "code",
   "execution_count": 142,
   "metadata": {},
   "outputs": [],
   "source": [
    "alpha=0.1\n",
    "iters=500\n",
    "theta = np.zeros((X_trainA.shape[1],1))"
   ]
  },
  {
   "cell_type": "code",
   "execution_count": 143,
   "metadata": {},
   "outputs": [
    {
     "name": "stdout",
     "output_type": "stream",
     "text": [
      "[[-0.00593337]\n",
      " [-0.36066035]\n",
      " [-2.98757746]\n",
      " [-0.11455779]\n",
      " [ 0.15916126]\n",
      " [ 3.51630082]\n",
      " [ 0.11149554]\n",
      " [-0.04223945]\n",
      " [-1.57097341]\n",
      " [-0.79121057]\n",
      " [-0.25099709]\n",
      " [-4.32401763]\n",
      " [-3.51906469]\n",
      " [ 0.75238544]\n",
      " [ 0.45940518]\n",
      " [ 0.23504717]\n",
      " [-0.539008  ]\n",
      " [ 1.29418205]\n",
      " [ 0.56853716]\n",
      " [ 1.34778485]]\n",
      "(20, 1)\n"
     ]
    }
   ],
   "source": [
    "#running the gd and cost function\n",
    "g,cost = minigradientDescent(X_trainA,y_trainA,theta,iters,alpha)\n",
    "print(g)\n",
    "print(g.shape)"
   ]
  },
  {
   "cell_type": "code",
   "execution_count": 144,
   "metadata": {},
   "outputs": [],
   "source": [
    "X_testA=norm_testA.iloc[:,0:-1]\n",
    "ones = np.ones([X_testA.shape[0],1])\n",
    "X_testA = np.concatenate((ones,X_testA),axis=1)\n",
    "\n",
    "y_testA = norm_testA.iloc[:,-1:].values"
   ]
  },
  {
   "cell_type": "code",
   "execution_count": 145,
   "metadata": {},
   "outputs": [],
   "source": [
    "test_prob=probability(g,X_testA)"
   ]
  },
  {
   "cell_type": "code",
   "execution_count": 146,
   "metadata": {},
   "outputs": [],
   "source": [
    "test_pred=np.copy(test_prob)\n",
    "test_pred[test_pred>0.5]=1\n",
    "test_pred[test_pred<=0.5]=0"
   ]
  },
  {
   "cell_type": "code",
   "execution_count": 192,
   "metadata": {},
   "outputs": [],
   "source": [
    "def confuse(y_act,y_pred):\n",
    "    TP=0;FN=0;FP=0;TN=0\n",
    "    for i in range(0,len(y_pred)):\n",
    "        if ((y_pred[i]==1)&(y_act[i]==1)):\n",
    "            TP=TP+1\n",
    "        if ((y_pred[i]==0)&(y_act[i]==1)):\n",
    "            FN=FN+1\n",
    "        if ((y_pred[i]==1)&(y_act[i]==0)):\n",
    "            FP=FP+1\n",
    "        if ((y_pred[i]==0)&(y_act[i]==0)):\n",
    "            TN=TN+1\n",
    "\n",
    "    Accuracy=(TP+TN)/(TP+TN+FP+FN)\n",
    "    print(\"Accuracy:\",Accuracy)\n",
    "\n",
    "    print(\"Confusion matrix:\")\n",
    "    print(\"TP: \",TP,\"FN:\",FN)\n",
    "    print(\"FP: \",FP,\"TN:\",TN)\n",
    "\n",
    "    precision=TP/(TP+FP)\n",
    "    print(\"Precision:\",precision)\n",
    "\n",
    "    recall=TP/(TP+FN)\n",
    "    print(\"Recall:\",recall)\n",
    "\n",
    "    if (TP!=0):\n",
    "        f1=(2*precision*recall)/(precision+recall)\n",
    "        print(\"F1 score:\",f1)\n",
    "\n",
    "    TPR=TP/(TP+FN)\n",
    "    print(\"TPR:\",TPR)\n",
    "    FPR=FP/(FP+TN)\n",
    "    print(\"FPR:\",FPR)\n",
    "\n",
    "def roc(y_act,probs):\n",
    "    fpr, tpr, thresholds = metrics.roc_curve(y_act, probs)\n",
    "\n",
    "    roc_auc = metrics.auc(fpr, tpr)\n",
    "\n",
    "    plt.figure()\n",
    "    plt.plot(fpr, tpr, color='darkorange', label='ROC curve (area = %0.2f)' % roc_auc)\n",
    "    plt.plot([0, 1], [0, 1], color='navy', linestyle='--')\n",
    "    plt.xlim([0.0, 1.0])\n",
    "    plt.ylim([0.0, 1.05])\n",
    "    plt.xlabel('False Positive Rate')\n",
    "    plt.ylabel('True Positive Rate')\n",
    "    plt.title('Receiver operating characteristic')\n",
    "    plt.legend(loc=\"lower right\")\n",
    "    plt.show()"
   ]
  },
  {
   "cell_type": "code",
   "execution_count": 148,
   "metadata": {},
   "outputs": [
    {
     "name": "stdout",
     "output_type": "stream",
     "text": [
      "Accuracy: 0.9797750435655067\n",
      "Confusion matrix:\n",
      "TP:  56 FN: 355\n",
      "FP:  28 TN: 18498\n",
      "Precision: 0.6666666666666666\n",
      "Recall: 0.1362530413625304\n",
      "F1 score: 0.22626262626262628\n",
      "TPR: 0.1362530413625304\n",
      "FPR: 0.001511389398682932\n"
     ]
    }
   ],
   "source": [
    "confuse(y_testA,test_pred)"
   ]
  },
  {
   "cell_type": "code",
   "execution_count": 149,
   "metadata": {},
   "outputs": [
    {
     "data": {
      "image/png": "[encoded data removed]",
      "text/plain": [
       "<matplotlib.figure.Figure at 0x18e71dca828>"
      ]
     },
     "metadata": {},
     "output_type": "display_data"
    }
   ],
   "source": [
    "roc(y_testA,test_prob)"
   ]
  },
  {
   "cell_type": "code",
   "execution_count": 150,
   "metadata": {},
   "outputs": [],
   "source": [
    "train_prob= probability(g,X_trainA)"
   ]
  },
  {
   "cell_type": "code",
   "execution_count": 151,
   "metadata": {},
   "outputs": [],
   "source": [
    "train_pred=np.copy(train_prob)\n",
    "train_pred[train_pred>0.5]=1\n",
    "train_pred[train_pred<=0.5]=0"
   ]
  },
  {
   "cell_type": "code",
   "execution_count": 152,
   "metadata": {},
   "outputs": [
    {
     "data": {
      "text/plain": [
       "(array([0., 1.]), array([18853,    84], dtype=int64))"
      ]
     },
     "execution_count": 152,
     "metadata": {},
     "output_type": "execute_result"
    }
   ],
   "source": [
    "np.unique(test_pred,return_counts=True)"
   ]
  },
  {
   "cell_type": "code",
   "execution_count": 153,
   "metadata": {},
   "outputs": [
    {
     "name": "stdout",
     "output_type": "stream",
     "text": [
      "Accuracy: 0.9741247293657919\n",
      "Confusion matrix:\n",
      "TP:  2 FN: 408\n",
      "FP:  82 TN: 18445\n",
      "Precision: 0.023809523809523808\n",
      "Recall: 0.004878048780487805\n",
      "F1 score: 0.008097165991902834\n",
      "TPR: 0.004878048780487805\n",
      "FPR: 0.00442597290440978\n"
     ]
    }
   ],
   "source": [
    "confuse(y_trainA,test_pred)"
   ]
  },
  {
   "cell_type": "code",
   "execution_count": 155,
   "metadata": {},
   "outputs": [
    {
     "data": {
      "image/png": "[encoded data removed]",
      "text/plain": [
       "<matplotlib.figure.Figure at 0x18e71e12d68>"
      ]
     },
     "metadata": {},
     "output_type": "display_data"
    }
   ],
   "source": [
    "roc(y_trainA,train_prob)"
   ]
  },
  {
   "cell_type": "markdown",
   "metadata": {},
   "source": [
    "There is no sign of overfitting as the accuracy over training and teting data are both high."
   ]
  },
  {
   "cell_type": "markdown",
   "metadata": {},
   "source": [
    "To deal with skewed distribution I would adopt 2 methods:\n",
    "1. Use cost matrix\n",
    "OR\n",
    "2. Reduce data to make sure that positive category is atleast a significant portion ,say 30% "
   ]
  },
  {
   "cell_type": "markdown",
   "metadata": {},
   "source": [
    "# Naive Bayes Classifier"
   ]
  },
  {
   "cell_type": "code",
   "execution_count": 159,
   "metadata": {},
   "outputs": [],
   "source": [
    "#number of zeros and ones in Y\n",
    "pred_zeros=trainA_Y['Pred'].value_counts()[0]\n",
    "pred_ones=trainA_Y['Pred'].value_counts()[1]"
   ]
  },
  {
   "cell_type": "code",
   "execution_count": 160,
   "metadata": {},
   "outputs": [],
   "source": [
    "# \"Amount\" column\n",
    "amount_mean_zeros = trainA_X.iloc[(trainA_Y['Pred']==0).values.tolist(),[0]].mean()\n",
    "amount_std_zeros = trainA_X.iloc[(trainA_Y['Pred']==0).values.tolist(),[0]].std()\n",
    "\n",
    "amount_mean_ones = trainA_X.iloc[(trainA_Y['Pred']==1).values.tolist(),[0]].mean()\n",
    "amount_std_ones = trainA_X.iloc[(trainA_Y['Pred']==1).values.tolist(),[0]].std()\n",
    "\n",
    "# \"Total\" column\n",
    "total_mean_zeros = trainA_X.iloc[(trainA_Y['Pred']==0).values.tolist(),[9]].mean()\n",
    "total_std_zeros = trainA_X.iloc[(trainA_Y['Pred']==0).values.tolist(),[9]].std()\n",
    "\n",
    "total_mean_ones = trainA_X.iloc[(trainA_Y['Pred']==1).values.tolist(),[9]].mean()\n",
    "total_std_ones = trainA_X.iloc[(trainA_Y['Pred']==1).values.tolist(),[9]].std()"
   ]
  },
  {
   "cell_type": "code",
   "execution_count": 161,
   "metadata": {},
   "outputs": [],
   "source": [
    "overall_freq_dict={}\n",
    "overall_prob_dict={}\n",
    "k_list = {}\n",
    "\n",
    "for i in range(0,trainA_X.shape[1]):\n",
    "    if ((i!=0)&(i!=9)):\n",
    "        unique1, counts1 = np.unique(trainA_X.iloc[(trainA_Y['Pred']==0).values.tolist(),[i]], return_counts=True)\n",
    "        unique2, counts2 = np.unique(trainA_X.iloc[(trainA_Y['Pred']==1).values.tolist(),[i]], return_counts=True)\n",
    "        \n",
    "        k = len(trainA_X.iloc[:,i].unique())\n",
    "        \n",
    "        d1=dict(zip(unique1,counts1))\n",
    "        d2=dict(zip(unique2,counts2))\n",
    "        \n",
    "        freq_dict={}\n",
    "        for key in d1:\n",
    "            if key in d2:\n",
    "                freq_dict[key]=(d1[key],d2[key])\n",
    "            else:\n",
    "                freq_dict[key]=(d1[key],0)\n",
    "        for key in d2:\n",
    "            if key in d1:\n",
    "                freq_dict[key]=(d1[key],d2[key])\n",
    "            else:\n",
    "                freq_dict[key]=(0,d2[key])\n",
    "        \n",
    "        probs1 = (counts1 + 1) / (pred_zeros + k)\n",
    "        probs2 = (counts2 + 1) / (pred_ones + k)\n",
    "        \n",
    "        p1=dict(zip(unique1,probs1))\n",
    "        p2=dict(zip(unique2,probs2))\n",
    "        \n",
    "        prob_dict={}\n",
    "        for key in p1:\n",
    "            if key in p2:\n",
    "                prob_dict[key]=(p1[key],p2[key])\n",
    "            else:\n",
    "                prob_dict[key]=(p1[key],0)\n",
    "        for key in p2:\n",
    "            if key in p1:\n",
    "                prob_dict[key]=(p1[key],p2[key])\n",
    "            else:\n",
    "                prob_dict[key]=(0,p2[key])\n",
    "        \n",
    "        overall_freq_dict[i] = freq_dict\n",
    "        overall_prob_dict[i] = prob_dict\n",
    "        \n",
    "        k_list[i] = k"
   ]
  },
  {
   "cell_type": "code",
   "execution_count": null,
   "metadata": {},
   "outputs": [],
   "source": [
    "kf = KFold(n_splits = 5, random_state = None, shuffle = False)\n",
    "\n",
    "for train_in, test_in in kf.split(trainA_X):\n",
    "    x = trainA_X.iloc[train_in,:]\n",
    "    y = trainA_Y.iloc[train_in,:]\n",
    "    x_te = trainA_X.iloc[test_in,:]\n",
    "    y_te = trainA_Y.iloc[test_in,:]\n",
    "    \n",
    "    print(type(x))\n",
    "    \n",
    "    overall_freq_dict={}\n",
    "    overall_prob_dict={}\n",
    "    k_list = {}\n",
    "\n",
    "    for i in range(0,x.shape[1]):\n",
    "        if ((i!=0)&(i!=9)):\n",
    "            unique1, counts1 = np.unique(x.iloc[(y['Pred']==0).values.tolist(),[i]], return_counts=True)\n",
    "            unique2, counts2 = np.unique(x.iloc[(y['Pred']==1).values.tolist(),[i]], return_counts=True)\n",
    "\n",
    "            k = len(x.iloc[:,i].unique())\n",
    "\n",
    "            d1=dict(zip(unique1,counts1))\n",
    "            d2=dict(zip(unique2,counts2))\n",
    "\n",
    "            freq_dict={}\n",
    "            for key in d1:\n",
    "                if key in d2:\n",
    "                    freq_dict[key]=(d1[key],d2[key])\n",
    "                else:\n",
    "                    freq_dict[key]=(d1[key],0)\n",
    "            for key in d2:\n",
    "                if key in d1:\n",
    "                    freq_dict[key]=(d1[key],d2[key])\n",
    "                else:\n",
    "                    freq_dict[key]=(0,d2[key])\n",
    "\n",
    "            probs1 = (counts1 + 1) / (pred_zeros + k)\n",
    "            probs2 = (counts2 + 1) / (pred_ones + k)\n",
    "\n",
    "            p1=dict(zip(unique1,probs1))\n",
    "            p2=dict(zip(unique2,probs2))\n",
    "\n",
    "            prob_dict={}\n",
    "            for key in p1:\n",
    "                if key in p2:\n",
    "                    prob_dict[key]=(p1[key],p2[key])\n",
    "                else:\n",
    "                    prob_dict[key]=(p1[key],0)\n",
    "            for key in p2:\n",
    "                if key in p1:\n",
    "                    prob_dict[key]=(p1[key],p2[key])\n",
    "                else:\n",
    "                    prob_dict[key]=(0,p2[key])\n",
    "\n",
    "            overall_freq_dict[i] = freq_dict\n",
    "            overall_prob_dict[i] = prob_dict\n",
    "\n",
    "            k_list[i] = k\n",
    "\n",
    "    prob_zero_list=[]\n",
    "    for row_index in range(0,x_te.shape[0]):\n",
    "        prob_zero = 0\n",
    "        for col_index in range(0,x_te.shape[1]):\n",
    "            value = x_te.iloc[row_index][col_index]\n",
    "            if ((col_index!=0)&(col_index!=9)):\n",
    "                if value in overall_prob_dict[col_index]:\n",
    "                    if overall_freq_dict[col_index][value][0]!=0:\n",
    "                        prob_zero = prob_zero + math.log(overall_prob_dict[col_index][value][0]) #for pred = 0\n",
    "                    else:\n",
    "                        prob_zero = prob_zero + math.log(1 / (pred_zeros + k_list[col_index]))\n",
    "                else:\n",
    "                    prob_zero = prob_zero + math.log(1 / (pred_zeros + k_list[col_index]))\n",
    "            elif (col_index==0):\n",
    "                prob_zero = prob_zero + math.log((1/math.sqrt(2*math.pi*pow(amount_std_zeros,2))) * math.exp(-(pow(value-amount_mean_zeros,2)/(2*pow(amount_std_zeros,2)))))\n",
    "            elif (col_index==9):\n",
    "                prob_zero = prob_zero + math.log((1/math.sqrt(2*math.pi*pow(total_std_zeros,2))) * math.exp(-(pow(value-total_mean_zeros,2)/(2*pow(total_std_zeros,2)))))\n",
    "\n",
    "        prob_zero = prob_zero + math.log(pred_zeros/(pred_zeros+pred_ones))\n",
    "        prob_zero_list.append(prob_zero)\n",
    "\n",
    "    prob_one_list=[]\n",
    "    for row_index in range(0,x_te.shape[0]):\n",
    "        prob_one = 0\n",
    "        for col_index in range(0,x_te.shape[1]):\n",
    "            value = x_te.iloc[row_index][col_index]\n",
    "            if ((col_index!=0)&(col_index!=9)):\n",
    "                if value in overall_prob_dict[col_index]:\n",
    "                    if overall_freq_dict[col_index][value][1]!=0:\n",
    "                        prob_one = prob_one + math.log(overall_prob_dict[col_index][value][1]) #for pred = 1\n",
    "                    else:\n",
    "                        prob_one = prob_one + math.log(1 / (pred_ones + k_list[col_index]))\n",
    "                else:\n",
    "                    prob_one = prob_one + math.log(1 / (pred_ones + k_list[col_index]))\n",
    "            elif (col_index==0):\n",
    "                prob_one = prob_one + math.log((1/math.sqrt(2*math.pi*pow(amount_std_ones,2))) * math.exp(-(pow(value-amount_mean_ones,2)/(2*pow(amount_std_ones,2)))))\n",
    "            elif (col_index==9):\n",
    "                prob_one = prob_one + math.log((1/math.sqrt(2*math.pi*pow(total_std_ones,2))) * math.exp(-(pow(value-total_mean_ones,2)/(2*pow(total_std_ones,2)))))\n",
    "\n",
    "        prob_one = prob_one + math.log(pred_ones/(pred_zeros+pred_ones))\n",
    "        prob_one_list.append(prob_one)\n",
    "\n",
    "    prob_zero_np = np.asarray(prob_zero_list)\n",
    "    prob_one_np = np.asarray(prob_one_list)\n",
    "\n",
    "    test_pred_nb=np.zeros([x_te.shape[0]])\n",
    "\n",
    "    test_pred_nb[prob_zero_np>prob_one_np]=0\n",
    "    test_pred_nb[prob_zero_np<prob_one_np]=1\n",
    "\n",
    "    np.unique(test_pred_nb,return_counts=True)\n",
    "\n",
    "    confuse(y_te,test_pred_nb)"
   ]
  },
  {
   "cell_type": "code",
   "execution_count": 162,
   "metadata": {},
   "outputs": [],
   "source": [
    "prob_zero_list=[]\n",
    "for row_index in range(0,testA_X.shape[0]):\n",
    "    prob_zero = 0\n",
    "    for col_index in range(0,testA_X.shape[1]):\n",
    "        value = testA_X.iloc[row_index][col_index]\n",
    "        if ((col_index!=0)&(col_index!=9)):\n",
    "            if value in overall_prob_dict[col_index]:\n",
    "                if overall_freq_dict[col_index][value][0]!=0:\n",
    "                    prob_zero = prob_zero + math.log(overall_prob_dict[col_index][value][0]) #for pred = 0\n",
    "                else:\n",
    "                    prob_zero = prob_zero + math.log(1 / (pred_zeros + k_list[col_index]))\n",
    "            else:\n",
    "                prob_zero = prob_zero + math.log(1 / (pred_zeros + k_list[col_index]))\n",
    "        elif (col_index==0):\n",
    "            prob_zero = prob_zero + math.log((1/math.sqrt(2*math.pi*pow(amount_std_zeros,2))) * math.exp(-(pow(value-amount_mean_zeros,2)/(2*pow(amount_std_zeros,2)))))\n",
    "        elif (col_index==9):\n",
    "            prob_zero = prob_zero + math.log((1/math.sqrt(2*math.pi*pow(total_std_zeros,2))) * math.exp(-(pow(value-total_mean_zeros,2)/(2*pow(total_std_zeros,2)))))\n",
    "        \n",
    "    prob_zero = prob_zero + math.log(pred_zeros/(pred_zeros+pred_ones))\n",
    "    prob_zero_list.append(prob_zero)"
   ]
  },
  {
   "cell_type": "code",
   "execution_count": 163,
   "metadata": {},
   "outputs": [],
   "source": [
    "prob_one_list=[]\n",
    "for row_index in range(0,testA_X.shape[0]):\n",
    "    prob_one = 0\n",
    "    for col_index in range(0,testA_X.shape[1]):\n",
    "        value = testA_X.iloc[row_index][col_index]\n",
    "        if ((col_index!=0)&(col_index!=9)):\n",
    "            if value in overall_prob_dict[col_index]:\n",
    "                if overall_freq_dict[col_index][value][1]!=0:\n",
    "                    prob_one = prob_one + math.log(overall_prob_dict[col_index][value][1]) #for pred = 1\n",
    "                else:\n",
    "                    prob_one = prob_one + math.log(1 / (pred_ones + k_list[col_index]))\n",
    "            else:\n",
    "                prob_one = prob_one + math.log(1 / (pred_ones + k_list[col_index]))\n",
    "        elif (col_index==0):\n",
    "            prob_one = prob_one + math.log((1/math.sqrt(2*math.pi*pow(amount_std_ones,2))) * math.exp(-(pow(value-amount_mean_ones,2)/(2*pow(amount_std_ones,2)))))\n",
    "        elif (col_index==9):\n",
    "            prob_one = prob_one + math.log((1/math.sqrt(2*math.pi*pow(total_std_ones,2))) * math.exp(-(pow(value-total_mean_ones,2)/(2*pow(total_std_ones,2)))))\n",
    "\n",
    "    prob_one = prob_one + math.log(pred_ones/(pred_zeros+pred_ones))\n",
    "    prob_one_list.append(prob_one)"
   ]
  },
  {
   "cell_type": "code",
   "execution_count": 164,
   "metadata": {},
   "outputs": [],
   "source": [
    "prob_zero_np = np.asarray(prob_zero_list)\n",
    "prob_one_np = np.asarray(prob_one_list)"
   ]
  },
  {
   "cell_type": "code",
   "execution_count": 165,
   "metadata": {},
   "outputs": [],
   "source": [
    "test_pred_nb=np.zeros([testA_X.shape[0]])"
   ]
  },
  {
   "cell_type": "code",
   "execution_count": 166,
   "metadata": {},
   "outputs": [],
   "source": [
    "test_pred_nb[prob_zero_np>prob_one_np]=0\n",
    "test_pred_nb[prob_zero_np<prob_one_np]=1"
   ]
  },
  {
   "cell_type": "code",
   "execution_count": 167,
   "metadata": {},
   "outputs": [
    {
     "data": {
      "text/plain": [
       "(array([0., 1.]), array([18600,   337], dtype=int64))"
      ]
     },
     "execution_count": 167,
     "metadata": {},
     "output_type": "execute_result"
    }
   ],
   "source": [
    "np.unique(test_pred_nb,return_counts=True)"
   ]
  },
  {
   "cell_type": "code",
   "execution_count": 168,
   "metadata": {},
   "outputs": [
    {
     "name": "stdout",
     "output_type": "stream",
     "text": [
      "Accuracy: 0.974441569414374\n",
      "Confusion matrix:\n",
      "TP:  132 FN: 279\n",
      "FP:  205 TN: 18321\n",
      "Precision: 0.3916913946587537\n",
      "Recall: 0.32116788321167883\n",
      "F1 score: 0.3529411764705882\n",
      "TPR: 0.32116788321167883\n",
      "FPR: 0.011065529526071467\n"
     ]
    }
   ],
   "source": [
    "confuse(y_testA,test_pred_nb)"
   ]
  },
  {
   "cell_type": "code",
   "execution_count": 169,
   "metadata": {},
   "outputs": [
    {
     "data": {
      "image/png": "[encoded data removed]",
      "text/plain": [
       "<matplotlib.figure.Figure at 0x18e71d65390>"
      ]
     },
     "metadata": {},
     "output_type": "display_data"
    }
   ],
   "source": [
    "roc(y_testA,prob_one_np)"
   ]
  },
  {
   "cell_type": "code",
   "execution_count": 174,
   "metadata": {},
   "outputs": [],
   "source": [
    "prob_zero_list=[]\n",
    "for row_index in range(0,trainA_X.shape[0]):\n",
    "    prob_zero = 0\n",
    "    for col_index in range(0,trainA_X.shape[1]):\n",
    "        value = trainA_X.iloc[row_index][col_index]\n",
    "        if ((col_index!=0)&(col_index!=9)):\n",
    "            if value in overall_prob_dict[col_index]:\n",
    "                if overall_freq_dict[col_index][value][0]!=0:\n",
    "                    prob_zero = prob_zero + math.log(overall_prob_dict[col_index][value][0]) #for pred = 0\n",
    "                else:\n",
    "                    prob_zero = prob_zero + math.log(1 / (pred_zeros + k_list[col_index]))\n",
    "            else:\n",
    "                prob_zero = prob_zero + math.log(1 / (pred_zeros + k_list[col_index]))\n",
    "        elif (col_index==0):\n",
    "            prob_zero = prob_zero + math.log((1/math.sqrt(2*math.pi*pow(amount_std_zeros,2))) * math.exp(-(pow(value-amount_mean_zeros,2)/(2*pow(amount_std_zeros,2)))))\n",
    "        elif (col_index==9):\n",
    "            prob_zero = prob_zero + math.log((1/math.sqrt(2*math.pi*pow(total_std_zeros,2))) * math.exp(-(pow(value-total_mean_zeros,2)/(2*pow(total_std_zeros,2)))))\n",
    "        \n",
    "    prob_zero = prob_zero + math.log(pred_zeros/(pred_zeros+pred_ones))\n",
    "    prob_zero_list.append(prob_zero)"
   ]
  },
  {
   "cell_type": "code",
   "execution_count": 175,
   "metadata": {},
   "outputs": [],
   "source": [
    "prob_one_list=[]\n",
    "for row_index in range(0,trainA_X.shape[0]):\n",
    "    prob_one = 0\n",
    "    for col_index in range(0,trainA_X.shape[1]):\n",
    "        value = trainA_X.iloc[row_index][col_index]\n",
    "        if ((col_index!=0)&(col_index!=9)):\n",
    "            if value in overall_prob_dict[col_index]:\n",
    "                if overall_freq_dict[col_index][value][1]!=0:\n",
    "                    prob_one = prob_one + math.log(overall_prob_dict[col_index][value][1]) #for pred = 1\n",
    "                else:\n",
    "                    prob_one = prob_one + math.log(1 / (pred_ones + k_list[col_index]))\n",
    "            else:\n",
    "                prob_one = prob_one + math.log(1 / (pred_ones + k_list[col_index]))\n",
    "        elif (col_index==0):\n",
    "            prob_one = prob_one + math.log((1/math.sqrt(2*math.pi*pow(amount_std_ones,2))) * math.exp(-(pow(value-amount_mean_ones,2)/(2*pow(amount_std_ones,2)))))\n",
    "        elif (col_index==9):\n",
    "            prob_one = prob_one + math.log((1/math.sqrt(2*math.pi*pow(total_std_ones,2))) * math.exp(-(pow(value-total_mean_ones,2)/(2*pow(total_std_ones,2)))))\n",
    "\n",
    "    prob_one = prob_one + math.log(pred_ones/(pred_zeros+pred_ones))\n",
    "    prob_one_list.append(prob_one)"
   ]
  },
  {
   "cell_type": "code",
   "execution_count": 176,
   "metadata": {},
   "outputs": [],
   "source": [
    "prob_zero_np = np.asarray(prob_zero_list)\n",
    "prob_one_np = np.asarray(prob_one_list)"
   ]
  },
  {
   "cell_type": "code",
   "execution_count": 177,
   "metadata": {},
   "outputs": [],
   "source": [
    "train_pred_nb=np.zeros([trainA_X.shape[0]])"
   ]
  },
  {
   "cell_type": "code",
   "execution_count": 178,
   "metadata": {},
   "outputs": [],
   "source": [
    "train_pred_nb[prob_zero_np>prob_one_np]=0\n",
    "train_pred_nb[prob_zero_np<prob_one_np]=1"
   ]
  },
  {
   "cell_type": "code",
   "execution_count": 179,
   "metadata": {},
   "outputs": [
    {
     "data": {
      "text/plain": [
       "(array([0., 1.]), array([74121,  1624], dtype=int64))"
      ]
     },
     "execution_count": 179,
     "metadata": {},
     "output_type": "execute_result"
    }
   ],
   "source": [
    "np.unique(train_pred_nb,return_counts=True)"
   ]
  },
  {
   "cell_type": "code",
   "execution_count": 180,
   "metadata": {},
   "outputs": [
    {
     "name": "stdout",
     "output_type": "stream",
     "text": [
      "Accuracy: 0.9750874645191102\n",
      "Confusion matrix:\n",
      "TP:  710 FN: 973\n",
      "FP:  914 TN: 73148\n",
      "Precision: 0.437192118226601\n",
      "Recall: 0.42186571598336303\n",
      "F1 score: 0.42939219836710013\n",
      "TPR: 0.42186571598336303\n",
      "FPR: 0.012341011584888336\n"
     ]
    }
   ],
   "source": [
    "confuse(y_trainA,train_pred_nb)"
   ]
  },
  {
   "cell_type": "code",
   "execution_count": 182,
   "metadata": {},
   "outputs": [
    {
     "data": {
      "image/png": "[encoded data removed]",
      "text/plain": [
       "<matplotlib.figure.Figure at 0x189b4638278>"
      ]
     },
     "metadata": {},
     "output_type": "display_data"
    }
   ],
   "source": [
    "roc(y_trainA,prob_one_np)"
   ]
  },
  {
   "cell_type": "markdown",
   "metadata": {},
   "source": [
    "There is no sign of overfitting as the accuracy over training and teting data are both high."
   ]
  },
  {
   "cell_type": "markdown",
   "metadata": {},
   "source": [
    "To deal with skewed distribution I would adopt 2 methods:\n",
    "1. Use cost matrix\n",
    "OR\n",
    "2. Reduce data to make sure that positive category is atleast a significant portion ,say 30% "
   ]
  },
  {
   "cell_type": "markdown",
   "metadata": {},
   "source": [
    "# kNN Classifier"
   ]
  },
  {
   "cell_type": "code",
   "execution_count": 31,
   "metadata": {},
   "outputs": [
    {
     "name": "stdout",
     "output_type": "stream",
     "text": [
      "(75745, 19)\n"
     ]
    },
    {
     "data": {
      "text/html": [
       "<div>\n",
       "<style scoped>\n",
       "    .dataframe tbody tr th:only-of-type {\n",
       "        vertical-align: middle;\n",
       "    }\n",
       "\n",
       "    .dataframe tbody tr th {\n",
       "        vertical-align: top;\n",
       "    }\n",
       "\n",
       "    .dataframe thead th {\n",
       "        text-align: right;\n",
       "    }\n",
       "</style>\n",
       "<table border=\"1\" class=\"dataframe\">\n",
       "  <thead>\n",
       "    <tr style=\"text-align: right;\">\n",
       "      <th></th>\n",
       "      <th>amount</th>\n",
       "      <th>hour1</th>\n",
       "      <th>state1</th>\n",
       "      <th>zip1</th>\n",
       "      <th>field1</th>\n",
       "      <th>domain1</th>\n",
       "      <th>field2</th>\n",
       "      <th>hour2</th>\n",
       "      <th>flag1</th>\n",
       "      <th>total</th>\n",
       "      <th>field3</th>\n",
       "      <th>field4</th>\n",
       "      <th>field5</th>\n",
       "      <th>indicator1</th>\n",
       "      <th>indicator2</th>\n",
       "      <th>flag2</th>\n",
       "      <th>flag3</th>\n",
       "      <th>flag4</th>\n",
       "      <th>flag5</th>\n",
       "    </tr>\n",
       "  </thead>\n",
       "  <tbody>\n",
       "    <tr>\n",
       "      <th>88069</th>\n",
       "      <td>31.08</td>\n",
       "      <td>12</td>\n",
       "      <td>38</td>\n",
       "      <td>446</td>\n",
       "      <td>0</td>\n",
       "      <td>9147</td>\n",
       "      <td>0</td>\n",
       "      <td>12</td>\n",
       "      <td>0</td>\n",
       "      <td>31.08</td>\n",
       "      <td>-13711</td>\n",
       "      <td>16</td>\n",
       "      <td>0</td>\n",
       "      <td>0</td>\n",
       "      <td>0</td>\n",
       "      <td>0</td>\n",
       "      <td>0</td>\n",
       "      <td>0</td>\n",
       "      <td>1</td>\n",
       "    </tr>\n",
       "    <tr>\n",
       "      <th>12884</th>\n",
       "      <td>25.90</td>\n",
       "      <td>17</td>\n",
       "      <td>6</td>\n",
       "      <td>852</td>\n",
       "      <td>3</td>\n",
       "      <td>1133</td>\n",
       "      <td>0</td>\n",
       "      <td>17</td>\n",
       "      <td>0</td>\n",
       "      <td>25.90</td>\n",
       "      <td>-1570</td>\n",
       "      <td>17</td>\n",
       "      <td>0</td>\n",
       "      <td>1</td>\n",
       "      <td>0</td>\n",
       "      <td>1</td>\n",
       "      <td>1</td>\n",
       "      <td>0</td>\n",
       "      <td>1</td>\n",
       "    </tr>\n",
       "    <tr>\n",
       "      <th>4139</th>\n",
       "      <td>12.95</td>\n",
       "      <td>21</td>\n",
       "      <td>30</td>\n",
       "      <td>282</td>\n",
       "      <td>3</td>\n",
       "      <td>9147</td>\n",
       "      <td>0</td>\n",
       "      <td>21</td>\n",
       "      <td>1</td>\n",
       "      <td>12.95</td>\n",
       "      <td>582</td>\n",
       "      <td>11</td>\n",
       "      <td>4</td>\n",
       "      <td>0</td>\n",
       "      <td>0</td>\n",
       "      <td>0</td>\n",
       "      <td>0</td>\n",
       "      <td>0</td>\n",
       "      <td>1</td>\n",
       "    </tr>\n",
       "    <tr>\n",
       "      <th>27967</th>\n",
       "      <td>49.95</td>\n",
       "      <td>15</td>\n",
       "      <td>37</td>\n",
       "      <td>112</td>\n",
       "      <td>3</td>\n",
       "      <td>277</td>\n",
       "      <td>1</td>\n",
       "      <td>15</td>\n",
       "      <td>1</td>\n",
       "      <td>49.95</td>\n",
       "      <td>6035</td>\n",
       "      <td>11</td>\n",
       "      <td>0</td>\n",
       "      <td>1</td>\n",
       "      <td>0</td>\n",
       "      <td>1</td>\n",
       "      <td>1</td>\n",
       "      <td>0</td>\n",
       "      <td>1</td>\n",
       "    </tr>\n",
       "    <tr>\n",
       "      <th>12526</th>\n",
       "      <td>0.00</td>\n",
       "      <td>13</td>\n",
       "      <td>30</td>\n",
       "      <td>274</td>\n",
       "      <td>4</td>\n",
       "      <td>9147</td>\n",
       "      <td>1</td>\n",
       "      <td>13</td>\n",
       "      <td>0</td>\n",
       "      <td>0.00</td>\n",
       "      <td>-3054</td>\n",
       "      <td>18</td>\n",
       "      <td>2</td>\n",
       "      <td>0</td>\n",
       "      <td>0</td>\n",
       "      <td>0</td>\n",
       "      <td>0</td>\n",
       "      <td>0</td>\n",
       "      <td>1</td>\n",
       "    </tr>\n",
       "  </tbody>\n",
       "</table>\n",
       "</div>"
      ],
      "text/plain": [
       "       amount  hour1  state1  zip1  field1  domain1  field2  hour2  flag1  \\\n",
       "88069   31.08     12      38   446       0     9147       0     12      0   \n",
       "12884   25.90     17       6   852       3     1133       0     17      0   \n",
       "4139    12.95     21      30   282       3     9147       0     21      1   \n",
       "27967   49.95     15      37   112       3      277       1     15      1   \n",
       "12526    0.00     13      30   274       4     9147       1     13      0   \n",
       "\n",
       "       total  field3  field4  field5  indicator1  indicator2  flag2  flag3  \\\n",
       "88069  31.08  -13711      16       0           0           0      0      0   \n",
       "12884  25.90   -1570      17       0           1           0      1      1   \n",
       "4139   12.95     582      11       4           0           0      0      0   \n",
       "27967  49.95    6035      11       0           1           0      1      1   \n",
       "12526   0.00   -3054      18       2           0           0      0      0   \n",
       "\n",
       "       flag4  flag5  \n",
       "88069      0      1  \n",
       "12884      0      1  \n",
       "4139       0      1  \n",
       "27967      0      1  \n",
       "12526      0      1  "
      ]
     },
     "execution_count": 31,
     "metadata": {},
     "output_type": "execute_result"
    }
   ],
   "source": [
    "print(trainA_X.shape)\n",
    "trainA_X.head()"
   ]
  },
  {
   "cell_type": "code",
   "execution_count": 32,
   "metadata": {},
   "outputs": [
    {
     "name": "stdout",
     "output_type": "stream",
     "text": [
      "(18937, 19)\n"
     ]
    },
    {
     "data": {
      "text/html": [
       "<div>\n",
       "<style scoped>\n",
       "    .dataframe tbody tr th:only-of-type {\n",
       "        vertical-align: middle;\n",
       "    }\n",
       "\n",
       "    .dataframe tbody tr th {\n",
       "        vertical-align: top;\n",
       "    }\n",
       "\n",
       "    .dataframe thead th {\n",
       "        text-align: right;\n",
       "    }\n",
       "</style>\n",
       "<table border=\"1\" class=\"dataframe\">\n",
       "  <thead>\n",
       "    <tr style=\"text-align: right;\">\n",
       "      <th></th>\n",
       "      <th>amount</th>\n",
       "      <th>hour1</th>\n",
       "      <th>state1</th>\n",
       "      <th>zip1</th>\n",
       "      <th>field1</th>\n",
       "      <th>domain1</th>\n",
       "      <th>field2</th>\n",
       "      <th>hour2</th>\n",
       "      <th>flag1</th>\n",
       "      <th>total</th>\n",
       "      <th>field3</th>\n",
       "      <th>field4</th>\n",
       "      <th>field5</th>\n",
       "      <th>indicator1</th>\n",
       "      <th>indicator2</th>\n",
       "      <th>flag2</th>\n",
       "      <th>flag3</th>\n",
       "      <th>flag4</th>\n",
       "      <th>flag5</th>\n",
       "    </tr>\n",
       "  </thead>\n",
       "  <tbody>\n",
       "    <tr>\n",
       "      <th>92127</th>\n",
       "      <td>12.95</td>\n",
       "      <td>19</td>\n",
       "      <td>8</td>\n",
       "      <td>804</td>\n",
       "      <td>4</td>\n",
       "      <td>4236</td>\n",
       "      <td>0</td>\n",
       "      <td>19</td>\n",
       "      <td>0</td>\n",
       "      <td>12.95</td>\n",
       "      <td>4446</td>\n",
       "      <td>7</td>\n",
       "      <td>3</td>\n",
       "      <td>0</td>\n",
       "      <td>0</td>\n",
       "      <td>1</td>\n",
       "      <td>1</td>\n",
       "      <td>0</td>\n",
       "      <td>1</td>\n",
       "    </tr>\n",
       "    <tr>\n",
       "      <th>69174</th>\n",
       "      <td>12.95</td>\n",
       "      <td>17</td>\n",
       "      <td>7</td>\n",
       "      <td>951</td>\n",
       "      <td>2</td>\n",
       "      <td>3022</td>\n",
       "      <td>0</td>\n",
       "      <td>17</td>\n",
       "      <td>0</td>\n",
       "      <td>12.95</td>\n",
       "      <td>5179</td>\n",
       "      <td>20</td>\n",
       "      <td>2</td>\n",
       "      <td>0</td>\n",
       "      <td>0</td>\n",
       "      <td>1</td>\n",
       "      <td>0</td>\n",
       "      <td>0</td>\n",
       "      <td>1</td>\n",
       "    </tr>\n",
       "    <tr>\n",
       "      <th>70463</th>\n",
       "      <td>38.85</td>\n",
       "      <td>17</td>\n",
       "      <td>7</td>\n",
       "      <td>917</td>\n",
       "      <td>2</td>\n",
       "      <td>3243</td>\n",
       "      <td>0</td>\n",
       "      <td>17</td>\n",
       "      <td>1</td>\n",
       "      <td>38.85</td>\n",
       "      <td>3874</td>\n",
       "      <td>6</td>\n",
       "      <td>0</td>\n",
       "      <td>0</td>\n",
       "      <td>0</td>\n",
       "      <td>0</td>\n",
       "      <td>0</td>\n",
       "      <td>0</td>\n",
       "      <td>1</td>\n",
       "    </tr>\n",
       "    <tr>\n",
       "      <th>70230</th>\n",
       "      <td>10.36</td>\n",
       "      <td>15</td>\n",
       "      <td>7</td>\n",
       "      <td>946</td>\n",
       "      <td>3</td>\n",
       "      <td>4997</td>\n",
       "      <td>0</td>\n",
       "      <td>15</td>\n",
       "      <td>0</td>\n",
       "      <td>10.36</td>\n",
       "      <td>-1980</td>\n",
       "      <td>19</td>\n",
       "      <td>0</td>\n",
       "      <td>1</td>\n",
       "      <td>0</td>\n",
       "      <td>1</td>\n",
       "      <td>1</td>\n",
       "      <td>0</td>\n",
       "      <td>1</td>\n",
       "    </tr>\n",
       "    <tr>\n",
       "      <th>11672</th>\n",
       "      <td>25.90</td>\n",
       "      <td>17</td>\n",
       "      <td>7</td>\n",
       "      <td>989</td>\n",
       "      <td>0</td>\n",
       "      <td>3022</td>\n",
       "      <td>0</td>\n",
       "      <td>17</td>\n",
       "      <td>1</td>\n",
       "      <td>25.90</td>\n",
       "      <td>3696</td>\n",
       "      <td>7</td>\n",
       "      <td>0</td>\n",
       "      <td>0</td>\n",
       "      <td>0</td>\n",
       "      <td>0</td>\n",
       "      <td>0</td>\n",
       "      <td>0</td>\n",
       "      <td>1</td>\n",
       "    </tr>\n",
       "  </tbody>\n",
       "</table>\n",
       "</div>"
      ],
      "text/plain": [
       "       amount  hour1  state1  zip1  field1  domain1  field2  hour2  flag1  \\\n",
       "92127   12.95     19       8   804       4     4236       0     19      0   \n",
       "69174   12.95     17       7   951       2     3022       0     17      0   \n",
       "70463   38.85     17       7   917       2     3243       0     17      1   \n",
       "70230   10.36     15       7   946       3     4997       0     15      0   \n",
       "11672   25.90     17       7   989       0     3022       0     17      1   \n",
       "\n",
       "       total  field3  field4  field5  indicator1  indicator2  flag2  flag3  \\\n",
       "92127  12.95    4446       7       3           0           0      1      1   \n",
       "69174  12.95    5179      20       2           0           0      1      0   \n",
       "70463  38.85    3874       6       0           0           0      0      0   \n",
       "70230  10.36   -1980      19       0           1           0      1      1   \n",
       "11672  25.90    3696       7       0           0           0      0      0   \n",
       "\n",
       "       flag4  flag5  \n",
       "92127      0      1  \n",
       "69174      0      1  \n",
       "70463      0      1  \n",
       "70230      0      1  \n",
       "11672      0      1  "
      ]
     },
     "execution_count": 32,
     "metadata": {},
     "output_type": "execute_result"
    }
   ],
   "source": [
    "print(testA_X.shape)\n",
    "testA_X.head()"
   ]
  },
  {
   "cell_type": "code",
   "execution_count": 33,
   "metadata": {},
   "outputs": [],
   "source": [
    "train_red_no = 9000\n",
    "\n",
    "trainA_np=np.zeros((train_red_no,trainA_X.shape[1]))\n",
    "for train_row_index in range(0,train_red_no):\n",
    "    trainA_sample_np = trainA_X.iloc[train_row_index,:].values\n",
    "    trainA_np[train_row_index] = trainA_sample_np / np.linalg.norm(trainA_sample_np)"
   ]
  },
  {
   "cell_type": "code",
   "execution_count": null,
   "metadata": {},
   "outputs": [],
   "source": [
    "knn_table={}\n",
    "for test_row_index in range(0,testA_X.shape[0]):\n",
    "    \n",
    "    testA_sample_np = testA_X.iloc[test_row_index,:].values\n",
    "    testA_sample_np = testA_sample_np / np.linalg.norm(testA_sample_np)\n",
    "    \n",
    "    knn_table[test_row_index] = []\n",
    "    \n",
    "    for train_row_index in range(0,train_red_no):\n",
    "        \n",
    "        d = distance.euclidean(trainA_np[train_row_index],testA_sample_np)\n",
    "        c = trainA_Y.iloc[train_row_index,:].values[0]\n",
    "        \n",
    "        knn_table[test_row_index].append((d,c))"
   ]
  },
  {
   "cell_type": "code",
   "execution_count": 35,
   "metadata": {},
   "outputs": [],
   "source": [
    "for test_row_index in knn_table:\n",
    "    knn_table[test_row_index] = sorted(knn_table[test_row_index], key=lambda tup: tup[0])"
   ]
  },
  {
   "cell_type": "code",
   "execution_count": 203,
   "metadata": {},
   "outputs": [
    {
     "name": "stdout",
     "output_type": "stream",
     "text": [
      "K value: 1 Accuracy: 0.9575962401647569\n",
      "Confusion matrix:\n",
      "TP:  7 FN: 404\n",
      "FP:  399 TN: 18127\n",
      "K value: 2 Accuracy: 0.9390082906479379\n",
      "Confusion matrix:\n",
      "TP:  12 FN: 399\n",
      "FP:  756 TN: 17770\n",
      "K value: 3 Accuracy: 0.9752864762105931\n",
      "Confusion matrix:\n",
      "TP:  1 FN: 410\n",
      "FP:  58 TN: 18468\n",
      "K value: 4 Accuracy: 0.9719596557004806\n",
      "Confusion matrix:\n",
      "TP:  2 FN: 409\n",
      "FP:  122 TN: 18404\n",
      "K value: 5 Accuracy: 0.9773987432011406\n",
      "Confusion matrix:\n",
      "TP:  1 FN: 410\n",
      "FP:  18 TN: 18508\n",
      "K value: 6 Accuracy: 0.9769762898030311\n",
      "Confusion matrix:\n",
      "TP:  1 FN: 410\n",
      "FP:  26 TN: 18500\n",
      "K value: 7 Accuracy: 0.9782964566721234\n",
      "Confusion matrix:\n",
      "TP:  0 FN: 411\n",
      "FP:  0 TN: 18526\n",
      "K value: 8 Accuracy: 0.9782436499973597\n",
      "Confusion matrix:\n",
      "TP:  0 FN: 411\n",
      "FP:  1 TN: 18525\n",
      "K value: 9 Accuracy: 0.9782964566721234\n",
      "Confusion matrix:\n",
      "TP:  0 FN: 411\n",
      "FP:  0 TN: 18526\n",
      "K value: 10 Accuracy: 0.9782964566721234\n",
      "Confusion matrix:\n",
      "TP:  0 FN: 411\n",
      "FP:  0 TN: 18526\n"
     ]
    }
   ],
   "source": [
    "for k in range(1,11):\n",
    "    pred_knn = []\n",
    "\n",
    "    for test_index in range(0,testA_X.shape[0]):\n",
    "        zero_count = 0\n",
    "        one_count = 0\n",
    "\n",
    "        for count in range(0,k):\n",
    "            if(knn_table[test_index][count][1]==0):\n",
    "                zero_count = zero_count + 1\n",
    "            else:\n",
    "                one_count = one_count + 1\n",
    "\n",
    "        if (zero_count > one_count):\n",
    "            pred_knn.append(0)\n",
    "        else:\n",
    "            pred_knn.append(1)\n",
    "            \n",
    "    TP=0;FN=0;FP=0;TN=0\n",
    "    for i in range(0,len(pred_knn)):\n",
    "        if ((pred_knn[i]==1)&(y_testA[i]==1)):\n",
    "            TP=TP+1\n",
    "        if ((pred_knn[i]==0)&(y_testA[i]==1)):\n",
    "            FN=FN+1\n",
    "        if ((pred_knn[i]==1)&(y_testA[i]==0)):\n",
    "            FP=FP+1\n",
    "        if ((pred_knn[i]==0)&(y_testA[i]==0)):\n",
    "            TN=TN+1\n",
    "\n",
    "    Accuracy=(TP+TN)/(TP+TN+FP+FN)\n",
    "    print(\"K value:\",k,\"Accuracy:\",Accuracy)\n",
    "    \n",
    "    print(\"Confusion matrix:\")\n",
    "    print(\"TP: \",TP,\"FN:\",FN)\n",
    "    print(\"FP: \",FP,\"TN:\",TN)"
   ]
  },
  {
   "cell_type": "code",
   "execution_count": 201,
   "metadata": {},
   "outputs": [],
   "source": [
    "k = 1\n",
    "pred_knn = []\n",
    "\n",
    "for test_index in range(0,testA_X.shape[0]):\n",
    "    zero_count = 0\n",
    "    one_count = 0\n",
    "\n",
    "    for count in range(0,k):\n",
    "        if(knn_table[test_index][count][1]==0):\n",
    "            zero_count = zero_count + 1\n",
    "        else:\n",
    "            one_count = one_count + 1\n",
    "\n",
    "    if (zero_count > one_count):\n",
    "        pred_knn.append(0)\n",
    "    else:\n",
    "        pred_knn.append(1)"
   ]
  },
  {
   "cell_type": "code",
   "execution_count": 202,
   "metadata": {},
   "outputs": [
    {
     "name": "stdout",
     "output_type": "stream",
     "text": [
      "Accuracy: 0.9575962401647569\n",
      "Confusion matrix:\n",
      "TP:  7 FN: 404\n",
      "FP:  399 TN: 18127\n",
      "Precision: 0.017241379310344827\n",
      "Recall: 0.0170316301703163\n",
      "F1 score: 0.017135862913096697\n",
      "TPR: 0.0170316301703163\n",
      "FPR: 0.021537298931231783\n"
     ]
    }
   ],
   "source": [
    "confuse(y_testA,pred_knn)"
   ]
  },
  {
   "cell_type": "code",
   "execution_count": 199,
   "metadata": {},
   "outputs": [
    {
     "data": {
      "image/png": "[encoded data removed]",
      "text/plain": [
       "<matplotlib.figure.Figure at 0x189b4681550>"
      ]
     },
     "metadata": {},
     "output_type": "display_data"
    }
   ],
   "source": [
    "plt.figure()\n",
    "plt.plot(0.021212284773573703, 0.03170731707317073, 'ro')\n",
    "plt.plot([0, 1], [0, 1], color='navy', linestyle='--')\n",
    "plt.xlim([0.0, 1.0])\n",
    "plt.ylim([0.0, 1.05])\n",
    "plt.xlabel('False Positive Rate')\n",
    "plt.ylabel('True Positive Rate')\n",
    "plt.title('Receiver operating characteristic')\n",
    "plt.show()"
   ]
  },
  {
   "cell_type": "markdown",
   "metadata": {},
   "source": [
    "There is no sign of overfitting as the accuracy over training and testing data are both high."
   ]
  },
  {
   "cell_type": "markdown",
   "metadata": {},
   "source": [
    "To deal with skewed distribution I would adopt 2 methods:\n",
    "1. Use cost matrix\n",
    "OR\n",
    "2. Reduce data to make sure that positive category is atleast a significant portion ,say 30% "
   ]
  },
  {
   "cell_type": "markdown",
   "metadata": {},
   "source": [
    "I would pick logistic regression because:\n",
    "    1. It has better accuracy rate\n",
    "    2. Better number of TP values\n",
    "    3. Computatationally inexpensive than kNN\n",
    "    4. No overfitting of data"
   ]
  }
 ],
 "metadata": {
  "kernelspec": {
   "display_name": "Python 3",
   "language": "python",
   "name": "python3"
  },
  "language_info": {
   "codemirror_mode": {
    "name": "ipython",
    "version": 3
   },
   "file_extension": ".py",
   "mimetype": "text/x-python",
   "name": "python",
   "nbconvert_exporter": "python",
   "pygments_lexer": "ipython3",
   "version": "3.7.3"
  }
 },
 "nbformat": 4,
 "nbformat_minor": 2
}
