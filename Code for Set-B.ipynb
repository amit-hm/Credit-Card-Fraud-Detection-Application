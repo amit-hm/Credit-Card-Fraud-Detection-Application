{
 "cells": [
  {
   "cell_type": "code",
   "execution_count": 1,
   "metadata": {},
   "outputs": [],
   "source": [
    "import pandas as pd\n",
    "import numpy as np\n",
    "from sklearn.model_selection import train_test_split\n",
    "from sklearn import metrics\n",
    "import matplotlib.pyplot as plt\n",
    "from sklearn.model_selection import KFold\n",
    "import math\n",
    "from sklearn.preprocessing import normalize\n",
    "from scipy.spatial import distance"
   ]
  },
  {
   "cell_type": "markdown",
   "metadata": {},
   "source": [
    "# Loading the data"
   ]
  },
  {
   "cell_type": "code",
   "execution_count": 8,
   "metadata": {},
   "outputs": [],
   "source": [
    "datasetB_X = pd.read_csv('Set-B.X.csv')\n",
    "datasetB_Y = pd.read_csv('Set-B.y.csv',names=['Pred'])"
   ]
  },
  {
   "cell_type": "markdown",
   "metadata": {},
   "source": [
    "# Exploring the data"
   ]
  },
  {
   "cell_type": "code",
   "execution_count": 9,
   "metadata": {},
   "outputs": [
    {
     "data": {
      "text/html": [
       "<div>\n",
       "<style scoped>\n",
       "    .dataframe tbody tr th:only-of-type {\n",
       "        vertical-align: middle;\n",
       "    }\n",
       "\n",
       "    .dataframe tbody tr th {\n",
       "        vertical-align: top;\n",
       "    }\n",
       "\n",
       "    .dataframe thead th {\n",
       "        text-align: right;\n",
       "    }\n",
       "</style>\n",
       "<table border=\"1\" class=\"dataframe\">\n",
       "  <thead>\n",
       "    <tr style=\"text-align: right;\">\n",
       "      <th></th>\n",
       "      <th>amount</th>\n",
       "      <th>hour1</th>\n",
       "      <th>state1</th>\n",
       "      <th>zip1</th>\n",
       "      <th>custAttr1</th>\n",
       "      <th>field1</th>\n",
       "      <th>custAttr2</th>\n",
       "      <th>field2</th>\n",
       "      <th>hour2</th>\n",
       "      <th>flag1</th>\n",
       "      <th>total</th>\n",
       "      <th>field3</th>\n",
       "      <th>field4</th>\n",
       "      <th>indicator1</th>\n",
       "      <th>indicator2</th>\n",
       "      <th>flag2</th>\n",
       "      <th>flag3</th>\n",
       "      <th>flag4</th>\n",
       "      <th>flag5</th>\n",
       "    </tr>\n",
       "  </thead>\n",
       "  <tbody>\n",
       "    <tr>\n",
       "      <th>0</th>\n",
       "      <td>12.95</td>\n",
       "      <td>0</td>\n",
       "      <td>WA</td>\n",
       "      <td>986</td>\n",
       "      <td>1234567890123456</td>\n",
       "      <td>0</td>\n",
       "      <td>luhxsodzmjhng7@comcast.net</td>\n",
       "      <td>0</td>\n",
       "      <td>0</td>\n",
       "      <td>0</td>\n",
       "      <td>12.95</td>\n",
       "      <td>-723</td>\n",
       "      <td>19</td>\n",
       "      <td>0</td>\n",
       "      <td>0</td>\n",
       "      <td>0</td>\n",
       "      <td>0</td>\n",
       "      <td>0</td>\n",
       "      <td>1</td>\n",
       "    </tr>\n",
       "    <tr>\n",
       "      <th>1</th>\n",
       "      <td>38.85</td>\n",
       "      <td>0</td>\n",
       "      <td>WA</td>\n",
       "      <td>980</td>\n",
       "      <td>1234567890123457</td>\n",
       "      <td>3</td>\n",
       "      <td>pfixyiqfpvkcg@zjyxs.net</td>\n",
       "      <td>1</td>\n",
       "      <td>0</td>\n",
       "      <td>0</td>\n",
       "      <td>38.85</td>\n",
       "      <td>5497</td>\n",
       "      <td>14</td>\n",
       "      <td>1</td>\n",
       "      <td>0</td>\n",
       "      <td>0</td>\n",
       "      <td>1</td>\n",
       "      <td>0</td>\n",
       "      <td>1</td>\n",
       "    </tr>\n",
       "    <tr>\n",
       "      <th>2</th>\n",
       "      <td>38.85</td>\n",
       "      <td>0</td>\n",
       "      <td>KY</td>\n",
       "      <td>402</td>\n",
       "      <td>1234567890123458</td>\n",
       "      <td>2</td>\n",
       "      <td>shbjoldciswwm@aol.com</td>\n",
       "      <td>1</td>\n",
       "      <td>0</td>\n",
       "      <td>0</td>\n",
       "      <td>38.85</td>\n",
       "      <td>-4420</td>\n",
       "      <td>23</td>\n",
       "      <td>0</td>\n",
       "      <td>0</td>\n",
       "      <td>1</td>\n",
       "      <td>1</td>\n",
       "      <td>0</td>\n",
       "      <td>1</td>\n",
       "    </tr>\n",
       "    <tr>\n",
       "      <th>3</th>\n",
       "      <td>12.95</td>\n",
       "      <td>0</td>\n",
       "      <td>CA</td>\n",
       "      <td>958</td>\n",
       "      <td>1234567890123459</td>\n",
       "      <td>3</td>\n",
       "      <td>ipbvtdfkhhfws@sbcglobal.net</td>\n",
       "      <td>0</td>\n",
       "      <td>0</td>\n",
       "      <td>0</td>\n",
       "      <td>12.95</td>\n",
       "      <td>5010</td>\n",
       "      <td>31</td>\n",
       "      <td>0</td>\n",
       "      <td>0</td>\n",
       "      <td>1</td>\n",
       "      <td>0</td>\n",
       "      <td>0</td>\n",
       "      <td>1</td>\n",
       "    </tr>\n",
       "    <tr>\n",
       "      <th>4</th>\n",
       "      <td>38.85</td>\n",
       "      <td>0</td>\n",
       "      <td>GA</td>\n",
       "      <td>300</td>\n",
       "      <td>1234567890123460</td>\n",
       "      <td>3</td>\n",
       "      <td>ivfuvxiennhdp@bellsouth.net</td>\n",
       "      <td>1</td>\n",
       "      <td>0</td>\n",
       "      <td>0</td>\n",
       "      <td>38.85</td>\n",
       "      <td>-4074</td>\n",
       "      <td>21</td>\n",
       "      <td>0</td>\n",
       "      <td>0</td>\n",
       "      <td>1</td>\n",
       "      <td>0</td>\n",
       "      <td>0</td>\n",
       "      <td>1</td>\n",
       "    </tr>\n",
       "  </tbody>\n",
       "</table>\n",
       "</div>"
      ],
      "text/plain": [
       "   amount  hour1 state1  zip1         custAttr1  field1  \\\n",
       "0   12.95      0     WA   986  1234567890123456       0   \n",
       "1   38.85      0     WA   980  1234567890123457       3   \n",
       "2   38.85      0     KY   402  1234567890123458       2   \n",
       "3   12.95      0     CA   958  1234567890123459       3   \n",
       "4   38.85      0     GA   300  1234567890123460       3   \n",
       "\n",
       "                     custAttr2  field2  hour2  flag1  total  field3  field4  \\\n",
       "0   luhxsodzmjhng7@comcast.net       0      0      0  12.95    -723      19   \n",
       "1      pfixyiqfpvkcg@zjyxs.net       1      0      0  38.85    5497      14   \n",
       "2        shbjoldciswwm@aol.com       1      0      0  38.85   -4420      23   \n",
       "3  ipbvtdfkhhfws@sbcglobal.net       0      0      0  12.95    5010      31   \n",
       "4  ivfuvxiennhdp@bellsouth.net       1      0      0  38.85   -4074      21   \n",
       "\n",
       "   indicator1  indicator2  flag2  flag3  flag4  flag5  \n",
       "0           0           0      0      0      0      1  \n",
       "1           1           0      0      1      0      1  \n",
       "2           0           0      1      1      0      1  \n",
       "3           0           0      1      0      0      1  \n",
       "4           0           0      1      0      0      1  "
      ]
     },
     "execution_count": 9,
     "metadata": {},
     "output_type": "execute_result"
    }
   ],
   "source": [
    "datasetB_X.head()"
   ]
  },
  {
   "cell_type": "markdown",
   "metadata": {},
   "source": [
    "# Dealing with null values"
   ]
  },
  {
   "cell_type": "code",
   "execution_count": 14,
   "metadata": {},
   "outputs": [
    {
     "data": {
      "text/plain": [
       "0"
      ]
     },
     "execution_count": 14,
     "metadata": {},
     "output_type": "execute_result"
    }
   ],
   "source": [
    "datasetB_Y['Pred'].isnull().values.sum()"
   ]
  },
  {
   "cell_type": "code",
   "execution_count": 17,
   "metadata": {},
   "outputs": [
    {
     "data": {
      "text/plain": [
       "1"
      ]
     },
     "execution_count": 17,
     "metadata": {},
     "output_type": "execute_result"
    }
   ],
   "source": [
    "datasetB_X.isnull().values.sum()"
   ]
  },
  {
   "cell_type": "code",
   "execution_count": 18,
   "metadata": {},
   "outputs": [
    {
     "data": {
      "text/plain": [
       "1"
      ]
     },
     "execution_count": 18,
     "metadata": {},
     "output_type": "execute_result"
    }
   ],
   "source": [
    "datasetB_X['state1'].isnull().values.sum()"
   ]
  },
  {
   "cell_type": "code",
   "execution_count": 19,
   "metadata": {},
   "outputs": [
    {
     "data": {
      "text/plain": [
       "CA    19717\n",
       "FL     8055\n",
       "TX     6785\n",
       "NY     6566\n",
       "GA     4105\n",
       "Name: state1, dtype: int64"
      ]
     },
     "execution_count": 19,
     "metadata": {},
     "output_type": "execute_result"
    }
   ],
   "source": [
    "datasetB_X['state1'].value_counts().head()"
   ]
  },
  {
   "cell_type": "code",
   "execution_count": 20,
   "metadata": {},
   "outputs": [],
   "source": [
    "datasetB_X['state1']=datasetB_X['state1'].fillna('CA')"
   ]
  },
  {
   "cell_type": "code",
   "execution_count": 21,
   "metadata": {},
   "outputs": [
    {
     "data": {
      "text/plain": [
       "0"
      ]
     },
     "execution_count": 21,
     "metadata": {},
     "output_type": "execute_result"
    }
   ],
   "source": [
    "datasetB_X.isnull().values.sum()"
   ]
  },
  {
   "cell_type": "markdown",
   "metadata": {},
   "source": [
    "# Inserting dummy variables"
   ]
  },
  {
   "cell_type": "code",
   "execution_count": 24,
   "metadata": {},
   "outputs": [
    {
     "data": {
      "text/plain": [
       "0    51\n",
       "1    51\n",
       "2    20\n",
       "3     7\n",
       "4    13\n",
       "Name: state1, dtype: int64"
      ]
     },
     "execution_count": 24,
     "metadata": {},
     "output_type": "execute_result"
    }
   ],
   "source": [
    "labels1 = datasetB_X['state1'].astype('category').cat.categories.tolist()\n",
    "replace_map_comp1 = {'state1' : {k: v for k,v in zip(labels1,list(range(1,len(labels1)+1)))}}\n",
    "datasetB_X.replace(replace_map_comp1, inplace=True)\n",
    "datasetB_X['state1'].astype('int64')[:5]"
   ]
  },
  {
   "cell_type": "code",
   "execution_count": 29,
   "metadata": {},
   "outputs": [],
   "source": [
    "datasetB_X = datasetB_X.drop('custAttr2',axis=1)"
   ]
  },
  {
   "cell_type": "code",
   "execution_count": 30,
   "metadata": {},
   "outputs": [
    {
     "data": {
      "text/html": [
       "<div>\n",
       "<style scoped>\n",
       "    .dataframe tbody tr th:only-of-type {\n",
       "        vertical-align: middle;\n",
       "    }\n",
       "\n",
       "    .dataframe tbody tr th {\n",
       "        vertical-align: top;\n",
       "    }\n",
       "\n",
       "    .dataframe thead th {\n",
       "        text-align: right;\n",
       "    }\n",
       "</style>\n",
       "<table border=\"1\" class=\"dataframe\">\n",
       "  <thead>\n",
       "    <tr style=\"text-align: right;\">\n",
       "      <th></th>\n",
       "      <th>amount</th>\n",
       "      <th>hour1</th>\n",
       "      <th>state1</th>\n",
       "      <th>zip1</th>\n",
       "      <th>custAttr1</th>\n",
       "      <th>field1</th>\n",
       "      <th>field2</th>\n",
       "      <th>hour2</th>\n",
       "      <th>flag1</th>\n",
       "      <th>total</th>\n",
       "      <th>field3</th>\n",
       "      <th>field4</th>\n",
       "      <th>indicator1</th>\n",
       "      <th>indicator2</th>\n",
       "      <th>flag2</th>\n",
       "      <th>flag3</th>\n",
       "      <th>flag4</th>\n",
       "      <th>flag5</th>\n",
       "    </tr>\n",
       "  </thead>\n",
       "  <tbody>\n",
       "    <tr>\n",
       "      <th>0</th>\n",
       "      <td>12.95</td>\n",
       "      <td>0</td>\n",
       "      <td>51</td>\n",
       "      <td>986</td>\n",
       "      <td>1234567890123456</td>\n",
       "      <td>0</td>\n",
       "      <td>0</td>\n",
       "      <td>0</td>\n",
       "      <td>0</td>\n",
       "      <td>12.95</td>\n",
       "      <td>-723</td>\n",
       "      <td>19</td>\n",
       "      <td>0</td>\n",
       "      <td>0</td>\n",
       "      <td>0</td>\n",
       "      <td>0</td>\n",
       "      <td>0</td>\n",
       "      <td>1</td>\n",
       "    </tr>\n",
       "    <tr>\n",
       "      <th>1</th>\n",
       "      <td>38.85</td>\n",
       "      <td>0</td>\n",
       "      <td>51</td>\n",
       "      <td>980</td>\n",
       "      <td>1234567890123457</td>\n",
       "      <td>3</td>\n",
       "      <td>1</td>\n",
       "      <td>0</td>\n",
       "      <td>0</td>\n",
       "      <td>38.85</td>\n",
       "      <td>5497</td>\n",
       "      <td>14</td>\n",
       "      <td>1</td>\n",
       "      <td>0</td>\n",
       "      <td>0</td>\n",
       "      <td>1</td>\n",
       "      <td>0</td>\n",
       "      <td>1</td>\n",
       "    </tr>\n",
       "    <tr>\n",
       "      <th>2</th>\n",
       "      <td>38.85</td>\n",
       "      <td>0</td>\n",
       "      <td>20</td>\n",
       "      <td>402</td>\n",
       "      <td>1234567890123458</td>\n",
       "      <td>2</td>\n",
       "      <td>1</td>\n",
       "      <td>0</td>\n",
       "      <td>0</td>\n",
       "      <td>38.85</td>\n",
       "      <td>-4420</td>\n",
       "      <td>23</td>\n",
       "      <td>0</td>\n",
       "      <td>0</td>\n",
       "      <td>1</td>\n",
       "      <td>1</td>\n",
       "      <td>0</td>\n",
       "      <td>1</td>\n",
       "    </tr>\n",
       "    <tr>\n",
       "      <th>3</th>\n",
       "      <td>12.95</td>\n",
       "      <td>0</td>\n",
       "      <td>7</td>\n",
       "      <td>958</td>\n",
       "      <td>1234567890123459</td>\n",
       "      <td>3</td>\n",
       "      <td>0</td>\n",
       "      <td>0</td>\n",
       "      <td>0</td>\n",
       "      <td>12.95</td>\n",
       "      <td>5010</td>\n",
       "      <td>31</td>\n",
       "      <td>0</td>\n",
       "      <td>0</td>\n",
       "      <td>1</td>\n",
       "      <td>0</td>\n",
       "      <td>0</td>\n",
       "      <td>1</td>\n",
       "    </tr>\n",
       "    <tr>\n",
       "      <th>4</th>\n",
       "      <td>38.85</td>\n",
       "      <td>0</td>\n",
       "      <td>13</td>\n",
       "      <td>300</td>\n",
       "      <td>1234567890123460</td>\n",
       "      <td>3</td>\n",
       "      <td>1</td>\n",
       "      <td>0</td>\n",
       "      <td>0</td>\n",
       "      <td>38.85</td>\n",
       "      <td>-4074</td>\n",
       "      <td>21</td>\n",
       "      <td>0</td>\n",
       "      <td>0</td>\n",
       "      <td>1</td>\n",
       "      <td>0</td>\n",
       "      <td>0</td>\n",
       "      <td>1</td>\n",
       "    </tr>\n",
       "  </tbody>\n",
       "</table>\n",
       "</div>"
      ],
      "text/plain": [
       "   amount  hour1  state1  zip1         custAttr1  field1  field2  hour2  \\\n",
       "0   12.95      0      51   986  1234567890123456       0       0      0   \n",
       "1   38.85      0      51   980  1234567890123457       3       1      0   \n",
       "2   38.85      0      20   402  1234567890123458       2       1      0   \n",
       "3   12.95      0       7   958  1234567890123459       3       0      0   \n",
       "4   38.85      0      13   300  1234567890123460       3       1      0   \n",
       "\n",
       "   flag1  total  field3  field4  indicator1  indicator2  flag2  flag3  flag4  \\\n",
       "0      0  12.95    -723      19           0           0      0      0      0   \n",
       "1      0  38.85    5497      14           1           0      0      1      0   \n",
       "2      0  38.85   -4420      23           0           0      1      1      0   \n",
       "3      0  12.95    5010      31           0           0      1      0      0   \n",
       "4      0  38.85   -4074      21           0           0      1      0      0   \n",
       "\n",
       "   flag5  \n",
       "0      1  \n",
       "1      1  \n",
       "2      1  \n",
       "3      1  \n",
       "4      1  "
      ]
     },
     "execution_count": 30,
     "metadata": {},
     "output_type": "execute_result"
    }
   ],
   "source": [
    "datasetB_X.head()"
   ]
  },
  {
   "cell_type": "code",
   "execution_count": 31,
   "metadata": {},
   "outputs": [
    {
     "data": {
      "text/plain": [
       "(100000, 18)"
      ]
     },
     "execution_count": 31,
     "metadata": {},
     "output_type": "execute_result"
    }
   ],
   "source": [
    "datasetB_X.shape"
   ]
  },
  {
   "cell_type": "markdown",
   "metadata": {},
   "source": [
    "# Merging X and Y"
   ]
  },
  {
   "cell_type": "code",
   "execution_count": 33,
   "metadata": {},
   "outputs": [
    {
     "data": {
      "text/html": [
       "<div>\n",
       "<style scoped>\n",
       "    .dataframe tbody tr th:only-of-type {\n",
       "        vertical-align: middle;\n",
       "    }\n",
       "\n",
       "    .dataframe tbody tr th {\n",
       "        vertical-align: top;\n",
       "    }\n",
       "\n",
       "    .dataframe thead th {\n",
       "        text-align: right;\n",
       "    }\n",
       "</style>\n",
       "<table border=\"1\" class=\"dataframe\">\n",
       "  <thead>\n",
       "    <tr style=\"text-align: right;\">\n",
       "      <th></th>\n",
       "      <th>amount</th>\n",
       "      <th>hour1</th>\n",
       "      <th>state1</th>\n",
       "      <th>zip1</th>\n",
       "      <th>custAttr1</th>\n",
       "      <th>field1</th>\n",
       "      <th>field2</th>\n",
       "      <th>hour2</th>\n",
       "      <th>flag1</th>\n",
       "      <th>total</th>\n",
       "      <th>field3</th>\n",
       "      <th>field4</th>\n",
       "      <th>indicator1</th>\n",
       "      <th>indicator2</th>\n",
       "      <th>flag2</th>\n",
       "      <th>flag3</th>\n",
       "      <th>flag4</th>\n",
       "      <th>flag5</th>\n",
       "      <th>Pred</th>\n",
       "    </tr>\n",
       "  </thead>\n",
       "  <tbody>\n",
       "    <tr>\n",
       "      <th>0</th>\n",
       "      <td>12.95</td>\n",
       "      <td>0</td>\n",
       "      <td>51</td>\n",
       "      <td>986</td>\n",
       "      <td>1234567890123456</td>\n",
       "      <td>0</td>\n",
       "      <td>0</td>\n",
       "      <td>0</td>\n",
       "      <td>0</td>\n",
       "      <td>12.95</td>\n",
       "      <td>-723</td>\n",
       "      <td>19</td>\n",
       "      <td>0</td>\n",
       "      <td>0</td>\n",
       "      <td>0</td>\n",
       "      <td>0</td>\n",
       "      <td>0</td>\n",
       "      <td>1</td>\n",
       "      <td>0</td>\n",
       "    </tr>\n",
       "    <tr>\n",
       "      <th>1</th>\n",
       "      <td>38.85</td>\n",
       "      <td>0</td>\n",
       "      <td>51</td>\n",
       "      <td>980</td>\n",
       "      <td>1234567890123457</td>\n",
       "      <td>3</td>\n",
       "      <td>1</td>\n",
       "      <td>0</td>\n",
       "      <td>0</td>\n",
       "      <td>38.85</td>\n",
       "      <td>5497</td>\n",
       "      <td>14</td>\n",
       "      <td>1</td>\n",
       "      <td>0</td>\n",
       "      <td>0</td>\n",
       "      <td>1</td>\n",
       "      <td>0</td>\n",
       "      <td>1</td>\n",
       "      <td>0</td>\n",
       "    </tr>\n",
       "    <tr>\n",
       "      <th>2</th>\n",
       "      <td>38.85</td>\n",
       "      <td>0</td>\n",
       "      <td>20</td>\n",
       "      <td>402</td>\n",
       "      <td>1234567890123458</td>\n",
       "      <td>2</td>\n",
       "      <td>1</td>\n",
       "      <td>0</td>\n",
       "      <td>0</td>\n",
       "      <td>38.85</td>\n",
       "      <td>-4420</td>\n",
       "      <td>23</td>\n",
       "      <td>0</td>\n",
       "      <td>0</td>\n",
       "      <td>1</td>\n",
       "      <td>1</td>\n",
       "      <td>0</td>\n",
       "      <td>1</td>\n",
       "      <td>0</td>\n",
       "    </tr>\n",
       "    <tr>\n",
       "      <th>3</th>\n",
       "      <td>12.95</td>\n",
       "      <td>0</td>\n",
       "      <td>7</td>\n",
       "      <td>958</td>\n",
       "      <td>1234567890123459</td>\n",
       "      <td>3</td>\n",
       "      <td>0</td>\n",
       "      <td>0</td>\n",
       "      <td>0</td>\n",
       "      <td>12.95</td>\n",
       "      <td>5010</td>\n",
       "      <td>31</td>\n",
       "      <td>0</td>\n",
       "      <td>0</td>\n",
       "      <td>1</td>\n",
       "      <td>0</td>\n",
       "      <td>0</td>\n",
       "      <td>1</td>\n",
       "      <td>0</td>\n",
       "    </tr>\n",
       "    <tr>\n",
       "      <th>4</th>\n",
       "      <td>38.85</td>\n",
       "      <td>0</td>\n",
       "      <td>13</td>\n",
       "      <td>300</td>\n",
       "      <td>1234567890123460</td>\n",
       "      <td>3</td>\n",
       "      <td>1</td>\n",
       "      <td>0</td>\n",
       "      <td>0</td>\n",
       "      <td>38.85</td>\n",
       "      <td>-4074</td>\n",
       "      <td>21</td>\n",
       "      <td>0</td>\n",
       "      <td>0</td>\n",
       "      <td>1</td>\n",
       "      <td>0</td>\n",
       "      <td>0</td>\n",
       "      <td>1</td>\n",
       "      <td>0</td>\n",
       "    </tr>\n",
       "  </tbody>\n",
       "</table>\n",
       "</div>"
      ],
      "text/plain": [
       "   amount  hour1  state1  zip1         custAttr1  field1  field2  hour2  \\\n",
       "0   12.95      0      51   986  1234567890123456       0       0      0   \n",
       "1   38.85      0      51   980  1234567890123457       3       1      0   \n",
       "2   38.85      0      20   402  1234567890123458       2       1      0   \n",
       "3   12.95      0       7   958  1234567890123459       3       0      0   \n",
       "4   38.85      0      13   300  1234567890123460       3       1      0   \n",
       "\n",
       "   flag1  total  field3  field4  indicator1  indicator2  flag2  flag3  flag4  \\\n",
       "0      0  12.95    -723      19           0           0      0      0      0   \n",
       "1      0  38.85    5497      14           1           0      0      1      0   \n",
       "2      0  38.85   -4420      23           0           0      1      1      0   \n",
       "3      0  12.95    5010      31           0           0      1      0      0   \n",
       "4      0  38.85   -4074      21           0           0      1      0      0   \n",
       "\n",
       "   flag5  Pred  \n",
       "0      1     0  \n",
       "1      1     0  \n",
       "2      1     0  \n",
       "3      1     0  \n",
       "4      1     0  "
      ]
     },
     "execution_count": 33,
     "metadata": {},
     "output_type": "execute_result"
    }
   ],
   "source": [
    "datasetB=datasetB_X\n",
    "datasetB['Pred']=datasetB_Y['Pred']\n",
    "datasetB['Pred'].astype('int64')\n",
    "datasetB.head()"
   ]
  },
  {
   "cell_type": "markdown",
   "metadata": {},
   "source": [
    "# Splitting the data"
   ]
  },
  {
   "cell_type": "code",
   "execution_count": 35,
   "metadata": {},
   "outputs": [],
   "source": [
    "trainB, testB = train_test_split(datasetB, test_size=0.2)"
   ]
  },
  {
   "cell_type": "code",
   "execution_count": 36,
   "metadata": {},
   "outputs": [],
   "source": [
    "trainB_X=trainB.iloc[:,0:-1]\n",
    "trainB_Y=trainB.iloc[:,-1:]"
   ]
  },
  {
   "cell_type": "code",
   "execution_count": 37,
   "metadata": {},
   "outputs": [],
   "source": [
    "testB_X=testB.iloc[:,0:-1]\n",
    "testB_Y=testB.iloc[:,-1:]"
   ]
  },
  {
   "cell_type": "markdown",
   "metadata": {},
   "source": [
    "# Normalizing the data (min-max)"
   ]
  },
  {
   "cell_type": "code",
   "execution_count": 41,
   "metadata": {},
   "outputs": [],
   "source": [
    "norm_trainB=(trainB-trainB.min())/(trainB.max()-trainB.min())"
   ]
  },
  {
   "cell_type": "code",
   "execution_count": 42,
   "metadata": {},
   "outputs": [
    {
     "data": {
      "text/plain": [
       "(80000, 19)"
      ]
     },
     "execution_count": 42,
     "metadata": {},
     "output_type": "execute_result"
    }
   ],
   "source": [
    "norm_trainB.shape"
   ]
  },
  {
   "cell_type": "code",
   "execution_count": 43,
   "metadata": {},
   "outputs": [],
   "source": [
    "norm_testB=(testB-testB.min())/(testB.max()-testB.min())"
   ]
  },
  {
   "cell_type": "code",
   "execution_count": 44,
   "metadata": {},
   "outputs": [
    {
     "data": {
      "text/plain": [
       "(20000, 19)"
      ]
     },
     "execution_count": 44,
     "metadata": {},
     "output_type": "execute_result"
    }
   ],
   "source": [
    "norm_testB.shape"
   ]
  },
  {
   "cell_type": "markdown",
   "metadata": {},
   "source": [
    "# Logistic regression"
   ]
  },
  {
   "cell_type": "code",
   "execution_count": 115,
   "metadata": {},
   "outputs": [],
   "source": [
    "X_trainB = norm_trainB.iloc[:,0:-1]\n",
    "ones = np.ones([X_trainB.shape[0],1])\n",
    "X_trainB = np.concatenate((ones,X_trainB),axis=1)\n",
    "\n",
    "y_trainB = norm_trainB.iloc[:,-1:].values"
   ]
  },
  {
   "cell_type": "code",
   "execution_count": 112,
   "metadata": {},
   "outputs": [],
   "source": [
    "def sigmoid(x):\n",
    "    # Activation function used to map any real value between 0 and 1\n",
    "    return 1 / (1 + np.exp(-x))\n",
    "\n",
    "def net_input(theta, x):\n",
    "    # Computes the weighted sum of inputs\n",
    "    return np.dot(x, theta)\n",
    "\n",
    "def probability(theta, x):\n",
    "    # Returns the probability after passing through sigmoid\n",
    "    return sigmoid(net_input(theta, x))\n",
    "\n",
    "def computeCost(x, y,theta):\n",
    "    # Computes the cost function for all the training samples\n",
    "    m = x.shape[0]\n",
    "    total_cost = -(1 / m) * np.sum(y * np.log(probability(theta, x)) + (1 - y) * np.log(1 - probability(theta, x)))\n",
    "    return total_cost"
   ]
  },
  {
   "cell_type": "code",
   "execution_count": 113,
   "metadata": {},
   "outputs": [],
   "source": [
    "def minigradientDescent(X,y,theta,iters,alpha):\n",
    "    #cost = np.zeros(iters)\n",
    "    for i in range(iters):\n",
    "        for n in range(0,len(X),128):\n",
    "            m = 128\n",
    "            grad= (1 / m) * np.dot(X[n:(n+128)].T, sigmoid(net_input(theta,   X[n:(n+128)])) - y[n:(n+128)])\n",
    "\n",
    "            theta = theta - (alpha * grad)\n",
    "\n",
    "            cost = computeCost(X[n:(n+128)], y[n:(n+128)], theta)\n",
    "    return theta,cost"
   ]
  },
  {
   "cell_type": "code",
   "execution_count": null,
   "metadata": {},
   "outputs": [],
   "source": [
    "alpha=0.1\n",
    "iters=100\n",
    "theta = np.zeros((X_trainA.shape[1],1))"
   ]
  },
  {
   "cell_type": "code",
   "execution_count": null,
   "metadata": {},
   "outputs": [],
   "source": [
    "kf = KFold(n_splits = 10, random_state = None, shuffle = False)\n",
    "accuracy_list = []\n",
    "tc = []\n",
    "for train_in, test_in in kf.split(X_trainB):\n",
    "    x = X_trainB[train_in]\n",
    "    y = y_trainB[train_in]\n",
    "    x_te = X_trainB[test_in]\n",
    "    y_te = y_trainB[test_in]\n",
    "    theta, cost = minigradientDescent(x,y,theta,iters,alpha)\n",
    "    \n",
    "    y_pred = probability(theta, x_te)\n",
    "    y_pred[y_pred>0.5]=1\n",
    "    y_pred[y_pred<=0.5]=0\n",
    "    \n",
    "    TP=0;FN=0;FP=0;TN=0\n",
    "    for i in range(0,len(y_pred)):\n",
    "        if ((y_pred[i]==1)&(y_te[i]==1)):\n",
    "            TP=TP+1\n",
    "        if ((y_pred[i]==0)&(y_te[i]==1)):\n",
    "            FN=FN+1\n",
    "        if ((y_pred[i]==1)&(y_te[i]==0)):\n",
    "            FP=FP+1\n",
    "        if ((y_pred[i]==0)&(y_te[i]==0)):\n",
    "            TN=TN+1\n",
    "\n",
    "    Accuracy=(TP+TN)/(TP+TN+FP+FN)\n",
    "    accuracy_list.append(Accuracy)"
   ]
  },
  {
   "cell_type": "code",
   "execution_count": 79,
   "metadata": {},
   "outputs": [],
   "source": [
    "alpha=0.01\n",
    "iters=3000\n",
    "theta = np.zeros((X_trainB.shape[1],1))"
   ]
  },
  {
   "cell_type": "code",
   "execution_count": null,
   "metadata": {},
   "outputs": [],
   "source": [
    "#running the gd and cost function\n",
    "g,cost = minigradientDescent(X_trainB,y_trainB,theta,iters,alpha)\n",
    "print(g)\n",
    "print(g.shape)"
   ]
  },
  {
   "cell_type": "code",
   "execution_count": 82,
   "metadata": {},
   "outputs": [],
   "source": [
    "X_testB=norm_testB.iloc[:,0:-1]\n",
    "ones = np.ones([X_testB.shape[0],1])\n",
    "X_testB = np.concatenate((ones,X_testB),axis=1)\n",
    "\n",
    "y_testB = norm_testB.iloc[:,-1:].values"
   ]
  },
  {
   "cell_type": "code",
   "execution_count": 83,
   "metadata": {},
   "outputs": [],
   "source": [
    "test_prob=probability(g,X_testB)"
   ]
  },
  {
   "cell_type": "code",
   "execution_count": 84,
   "metadata": {},
   "outputs": [],
   "source": [
    "test_pred=np.copy(test_prob)\n",
    "test_pred[test_pred>0.5]=1\n",
    "test_pred[test_pred<=0.5]=0"
   ]
  },
  {
   "cell_type": "code",
   "execution_count": 139,
   "metadata": {},
   "outputs": [],
   "source": [
    "def confuse(y_act,y_pred):\n",
    "    TP=0;FN=0;FP=0;TN=0\n",
    "    for i in range(0,len(y_pred)):\n",
    "        if ((y_pred[i]==1)&(y_act[i]==1)):\n",
    "            TP=TP+1\n",
    "        if ((y_pred[i]==0)&(y_act[i]==1)):\n",
    "            FN=FN+1\n",
    "        if ((y_pred[i]==1)&(y_act[i]==0)):\n",
    "            FP=FP+1\n",
    "        if ((y_pred[i]==0)&(y_act[i]==0)):\n",
    "            TN=TN+1\n",
    "\n",
    "    Accuracy=(TP+TN)/(TP+TN+FP+FN)\n",
    "    print(\"Accuracy:\",Accuracy)\n",
    "\n",
    "    print(\"Confusion matrix:\")\n",
    "    print(\"TP: \",TP,\"FN:\",FN)\n",
    "    print(\"FP: \",FP,\"TN:\",TN)\n",
    "\n",
    "    if (TP!=0):\n",
    "        precision=TP/(TP+FP)\n",
    "        print(\"Precision:\",precision)\n",
    "\n",
    "    recall=TP/(TP+FN)\n",
    "    print(\"Recall:\",recall)\n",
    "\n",
    "    if (TP!=0):\n",
    "        f1=(2*precision*recall)/(precision+recall)\n",
    "        print(\"F1 score:\",f1)\n",
    "\n",
    "    TPR=TP/(TP+FN)\n",
    "    print(\"TPR:\",TPR)\n",
    "    FPR=FP/(FP+TN)\n",
    "    print(\"FPR:\",FPR)\n",
    "\n",
    "def roc(y_act,probs):\n",
    "    fpr, tpr, thresholds = metrics.roc_curve(y_act, probs)\n",
    "\n",
    "    roc_auc = metrics.auc(fpr, tpr)\n",
    "\n",
    "    plt.figure()\n",
    "    plt.plot(fpr, tpr, color='darkorange', label='ROC curve (area = %0.2f)' % roc_auc)\n",
    "    plt.plot([0, 1], [0, 1], color='navy', linestyle='--')\n",
    "    plt.xlim([0.0, 1.0])\n",
    "    plt.ylim([0.0, 1.05])\n",
    "    plt.xlabel('False Positive Rate')\n",
    "    plt.ylabel('True Positive Rate')\n",
    "    plt.title('Receiver operating characteristic')\n",
    "    plt.legend(loc=\"lower right\")\n",
    "    plt.show()"
   ]
  },
  {
   "cell_type": "code",
   "execution_count": 140,
   "metadata": {},
   "outputs": [
    {
     "name": "stdout",
     "output_type": "stream",
     "text": [
      "Accuracy: 0.9724\n",
      "Confusion matrix:\n",
      "TP:  0 FN: 552\n",
      "FP:  0 TN: 19448\n",
      "Recall: 0.0\n",
      "TPR: 0.0\n",
      "FPR: 0.0\n"
     ]
    }
   ],
   "source": [
    "confuse(y_testB,test_pred)"
   ]
  },
  {
   "cell_type": "code",
   "execution_count": 141,
   "metadata": {},
   "outputs": [
    {
     "data": {
      "image/png": "[encoded data removed]",
      "text/plain": [
       "<matplotlib.figure.Figure at 0x1efb6768c50>"
      ]
     },
     "metadata": {},
     "output_type": "display_data"
    }
   ],
   "source": [
    "roc(y_testB,test_prob)"
   ]
  },
  {
   "cell_type": "code",
   "execution_count": null,
   "metadata": {},
   "outputs": [],
   "source": [
    "train_prob= probability(g,X_trainB)"
   ]
  },
  {
   "cell_type": "code",
   "execution_count": null,
   "metadata": {},
   "outputs": [],
   "source": [
    "train_pred=np.copy(train_prob)\n",
    "train_pred[train_pred>0.5]=1\n",
    "train_pred[train_pred<=0.5]=0"
   ]
  },
  {
   "cell_type": "code",
   "execution_count": null,
   "metadata": {},
   "outputs": [],
   "source": [
    "np.unique(test_pred,return_counts=True)"
   ]
  },
  {
   "cell_type": "code",
   "execution_count": 142,
   "metadata": {},
   "outputs": [
    {
     "name": "stdout",
     "output_type": "stream",
     "text": [
      "Accuracy: 0.97395\n",
      "Confusion matrix:\n",
      "TP:  0 FN: 521\n",
      "FP:  0 TN: 19479\n",
      "Recall: 0.0\n",
      "TPR: 0.0\n",
      "FPR: 0.0\n"
     ]
    }
   ],
   "source": [
    "confuse(y_trainB,test_pred)"
   ]
  },
  {
   "cell_type": "code",
   "execution_count": 143,
   "metadata": {},
   "outputs": [
    {
     "data": {
      "image/png": "[encoded data removed]",
      "text/plain": [
       "<matplotlib.figure.Figure at 0x1efb67d4668>"
      ]
     },
     "metadata": {},
     "output_type": "display_data"
    }
   ],
   "source": [
    "roc(y_trainB,train_prob)"
   ]
  },
  {
   "cell_type": "markdown",
   "metadata": {},
   "source": [
    "There is no sign of overfitting as the accuracy over training and teting data are both high."
   ]
  },
  {
   "cell_type": "markdown",
   "metadata": {},
   "source": [
    "To deal with skewed distribution I would adopt 2 methods:\n",
    "1. Use cost matrix\n",
    "OR\n",
    "2. Reduce data to make sure that positive category is atleast a significant portion ,say 30% "
   ]
  },
  {
   "cell_type": "markdown",
   "metadata": {},
   "source": [
    "# Task 2 : Naive Bayes Classifier"
   ]
  },
  {
   "cell_type": "code",
   "execution_count": 87,
   "metadata": {},
   "outputs": [
    {
     "data": {
      "text/html": [
       "<div>\n",
       "<style scoped>\n",
       "    .dataframe tbody tr th:only-of-type {\n",
       "        vertical-align: middle;\n",
       "    }\n",
       "\n",
       "    .dataframe tbody tr th {\n",
       "        vertical-align: top;\n",
       "    }\n",
       "\n",
       "    .dataframe thead th {\n",
       "        text-align: right;\n",
       "    }\n",
       "</style>\n",
       "<table border=\"1\" class=\"dataframe\">\n",
       "  <thead>\n",
       "    <tr style=\"text-align: right;\">\n",
       "      <th></th>\n",
       "      <th>amount</th>\n",
       "      <th>hour1</th>\n",
       "      <th>state1</th>\n",
       "      <th>zip1</th>\n",
       "      <th>custAttr1</th>\n",
       "      <th>field1</th>\n",
       "      <th>field2</th>\n",
       "      <th>hour2</th>\n",
       "      <th>flag1</th>\n",
       "      <th>total</th>\n",
       "      <th>field3</th>\n",
       "      <th>field4</th>\n",
       "      <th>indicator1</th>\n",
       "      <th>indicator2</th>\n",
       "      <th>flag2</th>\n",
       "      <th>flag3</th>\n",
       "      <th>flag4</th>\n",
       "      <th>flag5</th>\n",
       "    </tr>\n",
       "  </thead>\n",
       "  <tbody>\n",
       "    <tr>\n",
       "      <th>77369</th>\n",
       "      <td>38.85</td>\n",
       "      <td>22</td>\n",
       "      <td>47</td>\n",
       "      <td>782</td>\n",
       "      <td>1234567890158846</td>\n",
       "      <td>2</td>\n",
       "      <td>0</td>\n",
       "      <td>22</td>\n",
       "      <td>1</td>\n",
       "      <td>38.85</td>\n",
       "      <td>3575</td>\n",
       "      <td>10</td>\n",
       "      <td>0</td>\n",
       "      <td>0</td>\n",
       "      <td>0</td>\n",
       "      <td>0</td>\n",
       "      <td>1</td>\n",
       "      <td>1</td>\n",
       "    </tr>\n",
       "    <tr>\n",
       "      <th>18229</th>\n",
       "      <td>49.95</td>\n",
       "      <td>18</td>\n",
       "      <td>23</td>\n",
       "      <td>210</td>\n",
       "      <td>1234567890138208</td>\n",
       "      <td>3</td>\n",
       "      <td>1</td>\n",
       "      <td>18</td>\n",
       "      <td>0</td>\n",
       "      <td>49.95</td>\n",
       "      <td>-6231</td>\n",
       "      <td>9</td>\n",
       "      <td>0</td>\n",
       "      <td>0</td>\n",
       "      <td>0</td>\n",
       "      <td>0</td>\n",
       "      <td>0</td>\n",
       "      <td>1</td>\n",
       "    </tr>\n",
       "    <tr>\n",
       "      <th>15307</th>\n",
       "      <td>11.01</td>\n",
       "      <td>21</td>\n",
       "      <td>25</td>\n",
       "      <td>496</td>\n",
       "      <td>1234567890135957</td>\n",
       "      <td>3</td>\n",
       "      <td>1</td>\n",
       "      <td>21</td>\n",
       "      <td>0</td>\n",
       "      <td>11.01</td>\n",
       "      <td>4014</td>\n",
       "      <td>23</td>\n",
       "      <td>0</td>\n",
       "      <td>0</td>\n",
       "      <td>0</td>\n",
       "      <td>0</td>\n",
       "      <td>0</td>\n",
       "      <td>1</td>\n",
       "    </tr>\n",
       "    <tr>\n",
       "      <th>27636</th>\n",
       "      <td>31.08</td>\n",
       "      <td>22</td>\n",
       "      <td>13</td>\n",
       "      <td>307</td>\n",
       "      <td>1234567890145337</td>\n",
       "      <td>2</td>\n",
       "      <td>1</td>\n",
       "      <td>22</td>\n",
       "      <td>1</td>\n",
       "      <td>31.08</td>\n",
       "      <td>3661</td>\n",
       "      <td>25</td>\n",
       "      <td>0</td>\n",
       "      <td>0</td>\n",
       "      <td>1</td>\n",
       "      <td>1</td>\n",
       "      <td>0</td>\n",
       "      <td>2</td>\n",
       "    </tr>\n",
       "    <tr>\n",
       "      <th>67305</th>\n",
       "      <td>12.95</td>\n",
       "      <td>0</td>\n",
       "      <td>13</td>\n",
       "      <td>317</td>\n",
       "      <td>1234567890174128</td>\n",
       "      <td>3</td>\n",
       "      <td>0</td>\n",
       "      <td>0</td>\n",
       "      <td>1</td>\n",
       "      <td>12.95</td>\n",
       "      <td>5329</td>\n",
       "      <td>21</td>\n",
       "      <td>0</td>\n",
       "      <td>0</td>\n",
       "      <td>1</td>\n",
       "      <td>1</td>\n",
       "      <td>0</td>\n",
       "      <td>1</td>\n",
       "    </tr>\n",
       "  </tbody>\n",
       "</table>\n",
       "</div>"
      ],
      "text/plain": [
       "       amount  hour1  state1  zip1         custAttr1  field1  field2  hour2  \\\n",
       "77369   38.85     22      47   782  1234567890158846       2       0     22   \n",
       "18229   49.95     18      23   210  1234567890138208       3       1     18   \n",
       "15307   11.01     21      25   496  1234567890135957       3       1     21   \n",
       "27636   31.08     22      13   307  1234567890145337       2       1     22   \n",
       "67305   12.95      0      13   317  1234567890174128       3       0      0   \n",
       "\n",
       "       flag1  total  field3  field4  indicator1  indicator2  flag2  flag3  \\\n",
       "77369      1  38.85    3575      10           0           0      0      0   \n",
       "18229      0  49.95   -6231       9           0           0      0      0   \n",
       "15307      0  11.01    4014      23           0           0      0      0   \n",
       "27636      1  31.08    3661      25           0           0      1      1   \n",
       "67305      1  12.95    5329      21           0           0      1      1   \n",
       "\n",
       "       flag4  flag5  \n",
       "77369      1      1  \n",
       "18229      0      1  \n",
       "15307      0      1  \n",
       "27636      0      2  \n",
       "67305      0      1  "
      ]
     },
     "execution_count": 87,
     "metadata": {},
     "output_type": "execute_result"
    }
   ],
   "source": [
    "trainB_X.head()"
   ]
  },
  {
   "cell_type": "code",
   "execution_count": 94,
   "metadata": {},
   "outputs": [
    {
     "data": {
      "text/plain": [
       "(80000, 18)"
      ]
     },
     "execution_count": 94,
     "metadata": {},
     "output_type": "execute_result"
    }
   ],
   "source": [
    "trainB_X.shape"
   ]
  },
  {
   "cell_type": "code",
   "execution_count": 125,
   "metadata": {},
   "outputs": [],
   "source": [
    "#number of zeros and ones in Y\n",
    "pred_zeros=trainB_Y['Pred'].value_counts()[0]\n",
    "pred_ones=trainB_Y['Pred'].value_counts()[1]"
   ]
  },
  {
   "cell_type": "code",
   "execution_count": 126,
   "metadata": {},
   "outputs": [],
   "source": [
    "# \"Amount\" column\n",
    "amount_mean_zeros = trainB_X.iloc[(trainB_Y['Pred']==0).values.tolist(),[0]].mean()\n",
    "amount_std_zeros = trainB_X.iloc[(trainB_Y['Pred']==0).values.tolist(),[0]].std()\n",
    "\n",
    "amount_mean_ones = trainB_X.iloc[(trainB_Y['Pred']==1).values.tolist(),[0]].mean()\n",
    "amount_std_ones = trainB_X.iloc[(trainB_Y['Pred']==1).values.tolist(),[0]].std()\n",
    "\n",
    "# \"custAttr1\" column\n",
    "cust_mean_zeros = trainB_X.iloc[(trainB_Y['Pred']==0).values.tolist(),[4]].mean()\n",
    "cust_std_zeros = trainB_X.iloc[(trainB_Y['Pred']==0).values.tolist(),[4]].std()\n",
    "\n",
    "cust_mean_ones = trainB_X.iloc[(trainB_Y['Pred']==1).values.tolist(),[4]].mean()\n",
    "cust_std_ones = trainB_X.iloc[(trainB_Y['Pred']==1).values.tolist(),[4]].std()\n",
    "\n",
    "# \"Total\" column\n",
    "total_mean_zeros = trainB_X.iloc[(trainB_Y['Pred']==0).values.tolist(),[9]].mean()\n",
    "total_std_zeros = trainB_X.iloc[(trainB_Y['Pred']==0).values.tolist(),[9]].std()\n",
    "\n",
    "total_mean_ones = trainB_X.iloc[(trainB_Y['Pred']==1).values.tolist(),[9]].mean()\n",
    "total_std_ones = trainB_X.iloc[(trainB_Y['Pred']==1).values.tolist(),[9]].std()"
   ]
  },
  {
   "cell_type": "code",
   "execution_count": 130,
   "metadata": {},
   "outputs": [],
   "source": [
    "overall_freq_dict={}\n",
    "overall_prob_dict={}\n",
    "k_list = {}\n",
    "\n",
    "for i in range(0,trainB_X.shape[1]):\n",
    "    if ((i!=0)&(i!=9)&(i!=4)):\n",
    "        unique1, counts1 = np.unique(trainB_X.iloc[(trainB_Y['Pred']==0).values.tolist(),[i]], return_counts=True)\n",
    "        unique2, counts2 = np.unique(trainB_X.iloc[(trainB_Y['Pred']==1).values.tolist(),[i]], return_counts=True)\n",
    "        \n",
    "        k = len(trainB_X.iloc[:,i].unique())\n",
    "        \n",
    "        d1=dict(zip(unique1,counts1))\n",
    "        d2=dict(zip(unique2,counts2))\n",
    "        \n",
    "        freq_dict={}\n",
    "        for key in d1:\n",
    "            if key in d2:\n",
    "                freq_dict[key]=(d1[key],d2[key])\n",
    "            else:\n",
    "                freq_dict[key]=(d1[key],0)\n",
    "        for key in d2:\n",
    "            if key in d1:\n",
    "                freq_dict[key]=(d1[key],d2[key])\n",
    "            else:\n",
    "                freq_dict[key]=(0,d2[key])\n",
    "        \n",
    "        probs1 = (counts1 + 1) / (pred_zeros + k)\n",
    "        probs2 = (counts2 + 1) / (pred_ones + k)\n",
    "        \n",
    "        p1=dict(zip(unique1,probs1))\n",
    "        p2=dict(zip(unique2,probs2))\n",
    "        \n",
    "        prob_dict={}\n",
    "        for key in p1:\n",
    "            if key in p2:\n",
    "                prob_dict[key]=(p1[key],p2[key])\n",
    "            else:\n",
    "                prob_dict[key]=(p1[key],0)\n",
    "        for key in p2:\n",
    "            if key in p1:\n",
    "                prob_dict[key]=(p1[key],p2[key])\n",
    "            else:\n",
    "                prob_dict[key]=(0,p2[key])\n",
    "        \n",
    "        overall_freq_dict[i] = freq_dict\n",
    "        overall_prob_dict[i] = prob_dict\n",
    "        \n",
    "        k_list[i] = k"
   ]
  },
  {
   "cell_type": "code",
   "execution_count": null,
   "metadata": {},
   "outputs": [],
   "source": [
    "kf = KFold(n_splits = 5, random_state = None, shuffle = False)\n",
    "\n",
    "for train_in, test_in in kf.split(trainB_X):\n",
    "    x = trainB_X.iloc[train_in,:]\n",
    "    y = trainB_Y.iloc[train_in,:]\n",
    "    x_te = trainB_X.iloc[test_in,:]\n",
    "    y_te = trainB_Y.iloc[test_in,:]\n",
    "    \n",
    "    print(type(x))\n",
    "    \n",
    "    overall_freq_dict={}\n",
    "    overall_prob_dict={}\n",
    "    k_list = {}\n",
    "\n",
    "    for i in range(0,x.shape[1]):\n",
    "        if ((i!=0)&(i!=9)&(i!=4)):\n",
    "            unique1, counts1 = np.unique(trainB_X.iloc[(trainB_Y['Pred']==0).values.tolist(),[i]], return_counts=True)\n",
    "            unique2, counts2 = np.unique(trainB_X.iloc[(trainB_Y['Pred']==1).values.tolist(),[i]], return_counts=True)\n",
    "\n",
    "            k = len(trainB_X.iloc[:,i].unique())\n",
    "\n",
    "            d1=dict(zip(unique1,counts1))\n",
    "            d2=dict(zip(unique2,counts2))\n",
    "\n",
    "            freq_dict={}\n",
    "            for key in d1:\n",
    "                if key in d2:\n",
    "                    freq_dict[key]=(d1[key],d2[key])\n",
    "                else:\n",
    "                    freq_dict[key]=(d1[key],0)\n",
    "            for key in d2:\n",
    "                if key in d1:\n",
    "                    freq_dict[key]=(d1[key],d2[key])\n",
    "                else:\n",
    "                    freq_dict[key]=(0,d2[key])\n",
    "\n",
    "            probs1 = (counts1 + 1) / (pred_zeros + k)\n",
    "            probs2 = (counts2 + 1) / (pred_ones + k)\n",
    "\n",
    "            p1=dict(zip(unique1,probs1))\n",
    "            p2=dict(zip(unique2,probs2))\n",
    "\n",
    "            prob_dict={}\n",
    "            for key in p1:\n",
    "                if key in p2:\n",
    "                    prob_dict[key]=(p1[key],p2[key])\n",
    "                else:\n",
    "                    prob_dict[key]=(p1[key],0)\n",
    "            for key in p2:\n",
    "                if key in p1:\n",
    "                    prob_dict[key]=(p1[key],p2[key])\n",
    "                else:\n",
    "                    prob_dict[key]=(0,p2[key])\n",
    "\n",
    "            overall_freq_dict[i] = freq_dict\n",
    "            overall_prob_dict[i] = prob_dict\n",
    "\n",
    "            k_list[i] = k\n",
    "            \n",
    "    prob_zero_list=[]\n",
    "    for row_index in range(0,testB_X.shape[0]):\n",
    "        prob_zero = 0\n",
    "        for col_index in range(0,testB_X.shape[1]):\n",
    "            value = testB_X.iloc[row_index][col_index]\n",
    "            if ((col_index!=0)&(col_index!=9)&(col_index!=4)):\n",
    "                if value in overall_prob_dict[col_index]:\n",
    "                    if overall_freq_dict[col_index][value][0]!=0:\n",
    "                        prob_zero = prob_zero + math.log(overall_prob_dict[col_index][value][0]) #for pred = 0\n",
    "                    else:\n",
    "                        prob_zero = prob_zero + math.log(1 / (pred_zeros + k_list[col_index]))\n",
    "                else:\n",
    "                    prob_zero = prob_zero + math.log(1 / (pred_zeros + k_list[col_index]))\n",
    "            elif (col_index==0):\n",
    "                prob_zero = prob_zero + math.log((1/math.sqrt(2*math.pi*pow(amount_std_zeros,2))) * math.exp(-(pow(value-amount_mean_zeros,2)/(2*pow(amount_std_zeros,2)))))\n",
    "            elif (col_index==9):\n",
    "                prob_zero = prob_zero + math.log((1/math.sqrt(2*math.pi*pow(total_std_zeros,2))) * math.exp(-(pow(value-total_mean_zeros,2)/(2*pow(total_std_zeros,2)))))\n",
    "            elif (col_index==4):\n",
    "                prob_zero = prob_zero + math.log((1/math.sqrt(2*math.pi*pow(cust_std_zeros,2))) * math.exp(-(pow(value-cust_mean_zeros,2)/(2*pow(cust_std_zeros,2)))))\n",
    "\n",
    "        prob_zero = prob_zero + math.log(pred_zeros/(pred_zeros+pred_ones))\n",
    "        prob_zero_list.append(prob_zero)\n",
    "\n",
    "    prob_one_list=[]\n",
    "    for row_index in range(0,testB_X.shape[0]):\n",
    "        prob_one = 0\n",
    "        for col_index in range(0,testB_X.shape[1]):\n",
    "            value = testB_X.iloc[row_index][col_index]\n",
    "            if ((col_index!=0)&(col_index!=9)&(col_index!=4)):\n",
    "                if value in overall_prob_dict[col_index]:\n",
    "                    if overall_freq_dict[col_index][value][1]!=0:\n",
    "                        prob_one = prob_one + math.log(overall_prob_dict[col_index][value][1]) #for pred = 1\n",
    "                    else:\n",
    "                        prob_one = prob_one + math.log(1 / (pred_ones + k_list[col_index]))\n",
    "                else:\n",
    "                    prob_one = prob_one + math.log(1 / (pred_ones + k_list[col_index]))\n",
    "            elif (col_index==0):\n",
    "                prob_one = prob_one + math.log((1/math.sqrt(2*math.pi*pow(amount_std_ones,2))) * math.exp(-(pow(value-amount_mean_ones,2)/(2*pow(amount_std_ones,2)))))\n",
    "            elif (col_index==9):\n",
    "                prob_one = prob_one + math.log((1/math.sqrt(2*math.pi*pow(total_std_ones,2))) * math.exp(-(pow(value-total_mean_ones,2)/(2*pow(total_std_ones,2)))))\n",
    "            elif (col_index==4):\n",
    "                prob_one = prob_one + math.log((1/math.sqrt(2*math.pi*pow(cust_std_ones,2))) * math.exp(-(pow(value-cust_mean_ones,2)/(2*pow(cust_std_ones,2)))))\n",
    "\n",
    "        prob_one = prob_one + math.log(pred_ones/(pred_zeros+pred_ones))\n",
    "        prob_one_list.append(prob_one)\n",
    "\n",
    "    prob_zero_np = np.asarray(prob_zero_list)\n",
    "    prob_one_np = np.asarray(prob_one_list)\n",
    "\n",
    "    test_pred_nb=np.zeros([x_te.shape[0]])\n",
    "\n",
    "    test_pred_nb[prob_zero_np>prob_one_np]=0\n",
    "    test_pred_nb[prob_zero_np<prob_one_np]=1\n",
    "\n",
    "    np.unique(test_pred_nb,return_counts=True)\n",
    "\n",
    "    confuse(y_te,test_pred_nb)"
   ]
  },
  {
   "cell_type": "code",
   "execution_count": 95,
   "metadata": {},
   "outputs": [],
   "source": [
    "prob_zero_list=[]\n",
    "for row_index in range(0,testB_X.shape[0]):\n",
    "    prob_zero = 0\n",
    "    for col_index in range(0,testB_X.shape[1]):\n",
    "        value = testB_X.iloc[row_index][col_index]\n",
    "        if ((col_index!=0)&(col_index!=9)&(col_index!=4)):\n",
    "            if value in overall_prob_dict[col_index]:\n",
    "                if overall_freq_dict[col_index][value][0]!=0:\n",
    "                    prob_zero = prob_zero + math.log(overall_prob_dict[col_index][value][0]) #for pred = 0\n",
    "                else:\n",
    "                    prob_zero = prob_zero + math.log(1 / (pred_zeros + k_list[col_index]))\n",
    "            else:\n",
    "                prob_zero = prob_zero + math.log(1 / (pred_zeros + k_list[col_index]))\n",
    "        elif (col_index==0):\n",
    "            prob_zero = prob_zero + math.log((1/math.sqrt(2*math.pi*pow(amount_std_zeros,2))) * math.exp(-(pow(value-amount_mean_zeros,2)/(2*pow(amount_std_zeros,2)))))\n",
    "        elif (col_index==9):\n",
    "            prob_zero = prob_zero + math.log((1/math.sqrt(2*math.pi*pow(total_std_zeros,2))) * math.exp(-(pow(value-total_mean_zeros,2)/(2*pow(total_std_zeros,2)))))\n",
    "        elif (col_index==4):\n",
    "            prob_zero = prob_zero + math.log((1/math.sqrt(2*math.pi*pow(cust_std_zeros,2))) * math.exp(-(pow(value-cust_mean_zeros,2)/(2*pow(cust_std_zeros,2)))))\n",
    "        \n",
    "    prob_zero = prob_zero + math.log(pred_zeros/(pred_zeros+pred_ones))\n",
    "    prob_zero_list.append(prob_zero)"
   ]
  },
  {
   "cell_type": "code",
   "execution_count": 96,
   "metadata": {},
   "outputs": [],
   "source": [
    "prob_one_list=[]\n",
    "for row_index in range(0,testB_X.shape[0]):\n",
    "    prob_one = 0\n",
    "    for col_index in range(0,testB_X.shape[1]):\n",
    "        value = testB_X.iloc[row_index][col_index]\n",
    "        if ((col_index!=0)&(col_index!=9)&(col_index!=4)):\n",
    "            if value in overall_prob_dict[col_index]:\n",
    "                if overall_freq_dict[col_index][value][1]!=0:\n",
    "                    prob_one = prob_one + math.log(overall_prob_dict[col_index][value][1]) #for pred = 1\n",
    "                else:\n",
    "                    prob_one = prob_one + math.log(1 / (pred_ones + k_list[col_index]))\n",
    "            else:\n",
    "                prob_one = prob_one + math.log(1 / (pred_ones + k_list[col_index]))\n",
    "        elif (col_index==0):\n",
    "            prob_one = prob_one + math.log((1/math.sqrt(2*math.pi*pow(amount_std_ones,2))) * math.exp(-(pow(value-amount_mean_ones,2)/(2*pow(amount_std_ones,2)))))\n",
    "        elif (col_index==9):\n",
    "            prob_one = prob_one + math.log((1/math.sqrt(2*math.pi*pow(total_std_ones,2))) * math.exp(-(pow(value-total_mean_ones,2)/(2*pow(total_std_ones,2)))))\n",
    "        elif (col_index==4):\n",
    "            prob_one = prob_one + math.log((1/math.sqrt(2*math.pi*pow(cust_std_ones,2))) * math.exp(-(pow(value-cust_mean_ones,2)/(2*pow(cust_std_ones,2)))))\n",
    "\n",
    "    prob_one = prob_one + math.log(pred_ones/(pred_zeros+pred_ones))\n",
    "    prob_one_list.append(prob_one)"
   ]
  },
  {
   "cell_type": "code",
   "execution_count": 99,
   "metadata": {},
   "outputs": [],
   "source": [
    "prob_zero_np = np.asarray(prob_zero_list)\n",
    "prob_one_np = np.asarray(prob_one_list)"
   ]
  },
  {
   "cell_type": "code",
   "execution_count": 100,
   "metadata": {},
   "outputs": [],
   "source": [
    "test_pred_nb=np.zeros([testB_X.shape[0]])"
   ]
  },
  {
   "cell_type": "code",
   "execution_count": 101,
   "metadata": {},
   "outputs": [],
   "source": [
    "test_pred_nb[prob_zero_np>prob_one_np]=0\n",
    "test_pred_nb[prob_zero_np<prob_one_np]=1"
   ]
  },
  {
   "cell_type": "code",
   "execution_count": 102,
   "metadata": {},
   "outputs": [
    {
     "data": {
      "text/plain": [
       "(array([0., 1.]), array([19499,   501], dtype=int64))"
      ]
     },
     "execution_count": 102,
     "metadata": {},
     "output_type": "execute_result"
    }
   ],
   "source": [
    "np.unique(test_pred_nb,return_counts=True)"
   ]
  },
  {
   "cell_type": "code",
   "execution_count": 103,
   "metadata": {},
   "outputs": [
    {
     "name": "stdout",
     "output_type": "stream",
     "text": [
      "Accuracy: 0.95\n",
      "Confusion matrix:\n",
      "TP:  11 FN: 510\n",
      "FP:  490 TN: 18989\n",
      "Precision: 0.021956087824351298\n",
      "Recall: 0.02111324376199616\n",
      "F1 score: 0.02152641878669276\n",
      "TPR: 0.02111324376199616\n",
      "FPR: 0.02515529544637815\n"
     ]
    }
   ],
   "source": [
    "confuse(y_trainB,test_pred_nb)"
   ]
  },
  {
   "cell_type": "code",
   "execution_count": 123,
   "metadata": {},
   "outputs": [
    {
     "data": {
      "image/png": "[encoded data removed]",
      "text/plain": [
       "<matplotlib.figure.Figure at 0x1efb68003c8>"
      ]
     },
     "metadata": {},
     "output_type": "display_data"
    }
   ],
   "source": [
    "roc(y_testB,prob_one_np)"
   ]
  },
  {
   "cell_type": "code",
   "execution_count": 132,
   "metadata": {},
   "outputs": [],
   "source": [
    "prob_zero_list=[]\n",
    "for row_index in range(0,trainB_X.shape[0]):\n",
    "    prob_zero = 0\n",
    "    for col_index in range(0,trainB_X.shape[1]):\n",
    "        value = trainB_X.iloc[row_index][col_index]\n",
    "        if ((col_index!=0)&(col_index!=9)&(col_index!=4)):\n",
    "            if value in overall_prob_dict[col_index]:\n",
    "                if overall_freq_dict[col_index][value][0]!=0:\n",
    "                    prob_zero = prob_zero + math.log(overall_prob_dict[col_index][value][0]) #for pred = 0\n",
    "                else:\n",
    "                    prob_zero = prob_zero + math.log(1 / (pred_zeros + k_list[col_index]))\n",
    "            else:\n",
    "                prob_zero = prob_zero + math.log(1 / (pred_zeros + k_list[col_index]))\n",
    "        elif (col_index==0):\n",
    "            prob_zero = prob_zero + math.log((1/math.sqrt(2*math.pi*pow(amount_std_zeros,2))) * math.exp(-(pow(value-amount_mean_zeros,2)/(2*pow(amount_std_zeros,2)))))\n",
    "        elif (col_index==9):\n",
    "            prob_zero = prob_zero + math.log((1/math.sqrt(2*math.pi*pow(total_std_zeros,2))) * math.exp(-(pow(value-total_mean_zeros,2)/(2*pow(total_std_zeros,2)))))\n",
    "        elif (col_index==4):\n",
    "            prob_zero = prob_zero + math.log((1/math.sqrt(2*math.pi*pow(cust_std_zeros,2))) * math.exp(-(pow(value-cust_mean_zeros,2)/(2*pow(cust_std_zeros,2)))))\n",
    "        \n",
    "    prob_zero = prob_zero + math.log(pred_zeros/(pred_zeros+pred_ones))\n",
    "    prob_zero_list.append(prob_zero)"
   ]
  },
  {
   "cell_type": "code",
   "execution_count": 133,
   "metadata": {},
   "outputs": [],
   "source": [
    "prob_one_list=[]\n",
    "for row_index in range(0,trainB_X.shape[0]):\n",
    "    prob_one = 0\n",
    "    for col_index in range(0,trainB_X.shape[1]):\n",
    "        value = trainB_X.iloc[row_index][col_index]\n",
    "        if ((col_index!=0)&(col_index!=9)&(col_index!=4)):\n",
    "            if value in overall_prob_dict[col_index]:\n",
    "                if overall_freq_dict[col_index][value][1]!=0:\n",
    "                    prob_one = prob_one + math.log(overall_prob_dict[col_index][value][1]) #for pred = 1\n",
    "                else:\n",
    "                    prob_one = prob_one + math.log(1 / (pred_ones + k_list[col_index]))\n",
    "            else:\n",
    "                prob_one = prob_one + math.log(1 / (pred_ones + k_list[col_index]))\n",
    "        elif (col_index==0):\n",
    "            prob_one = prob_one + math.log((1/math.sqrt(2*math.pi*pow(amount_std_ones,2))) * math.exp(-(pow(value-amount_mean_ones,2)/(2*pow(amount_std_ones,2)))))\n",
    "        elif (col_index==9):\n",
    "            prob_one = prob_one + math.log((1/math.sqrt(2*math.pi*pow(total_std_ones,2))) * math.exp(-(pow(value-total_mean_ones,2)/(2*pow(total_std_ones,2)))))\n",
    "        elif (col_index==4):\n",
    "            prob_one = prob_one + math.log((1/math.sqrt(2*math.pi*pow(cust_std_ones,2))) * math.exp(-(pow(value-cust_mean_ones,2)/(2*pow(cust_std_ones,2)))))\n",
    "        \n",
    "    prob_one = prob_one + math.log(pred_ones/(pred_zeros+pred_ones))\n",
    "    prob_one_list.append(prob_one)"
   ]
  },
  {
   "cell_type": "code",
   "execution_count": null,
   "metadata": {},
   "outputs": [],
   "source": [
    "prob_zero_np = np.asarray(prob_zero_list)\n",
    "prob_one_np = np.asarray(prob_one_list)\n",
    "\n",
    "train_pred_nb=np.zeros([trainB_X.shape[0]])\n",
    "\n",
    "train_pred_nb[prob_zero_np>prob_one_np]=0\n",
    "train_pred_nb[prob_zero_np<prob_one_np]=1\n",
    "\n",
    "np.unique(train_pred_nb,return_counts=True)"
   ]
  },
  {
   "cell_type": "code",
   "execution_count": 145,
   "metadata": {},
   "outputs": [
    {
     "name": "stdout",
     "output_type": "stream",
     "text": [
      "Accuracy: 0.9721625\n",
      "Confusion matrix:\n",
      "TP:  854 FN: 1248\n",
      "FP:  979 TN: 76919\n",
      "Precision: 0.46590289143480634\n",
      "Recall: 0.40627973358705993\n",
      "F1 score: 0.4340533672172808\n",
      "TPR: 0.40627973358705993\n",
      "FPR: 0.012567716757811497\n"
     ]
    }
   ],
   "source": [
    "confuse(y_trainB,train_pred_nb)"
   ]
  },
  {
   "cell_type": "code",
   "execution_count": 146,
   "metadata": {},
   "outputs": [
    {
     "data": {
      "image/png": "[encoded data removed]",
      "text/plain": [
       "<matplotlib.figure.Figure at 0x1efacc5f470>"
      ]
     },
     "metadata": {},
     "output_type": "display_data"
    }
   ],
   "source": [
    "roc(y_trainB,prob_one_np)"
   ]
  },
  {
   "cell_type": "markdown",
   "metadata": {},
   "source": [
    "There is no sign of overfitting as the accuracy over training and teting data are both high."
   ]
  },
  {
   "cell_type": "markdown",
   "metadata": {},
   "source": [
    "To deal with skewed distribution I would adopt 2 methods:\n",
    "1. Use cost matrix\n",
    "OR\n",
    "2. Reduce data to make sure that positive category is atleast a significant portion ,say 30% "
   ]
  },
  {
   "cell_type": "markdown",
   "metadata": {},
   "source": [
    "# kNN Clasifier"
   ]
  },
  {
   "cell_type": "code",
   "execution_count": 105,
   "metadata": {},
   "outputs": [
    {
     "name": "stdout",
     "output_type": "stream",
     "text": [
      "(80000, 18)\n"
     ]
    },
    {
     "data": {
      "text/html": [
       "<div>\n",
       "<style scoped>\n",
       "    .dataframe tbody tr th:only-of-type {\n",
       "        vertical-align: middle;\n",
       "    }\n",
       "\n",
       "    .dataframe tbody tr th {\n",
       "        vertical-align: top;\n",
       "    }\n",
       "\n",
       "    .dataframe thead th {\n",
       "        text-align: right;\n",
       "    }\n",
       "</style>\n",
       "<table border=\"1\" class=\"dataframe\">\n",
       "  <thead>\n",
       "    <tr style=\"text-align: right;\">\n",
       "      <th></th>\n",
       "      <th>amount</th>\n",
       "      <th>hour1</th>\n",
       "      <th>state1</th>\n",
       "      <th>zip1</th>\n",
       "      <th>custAttr1</th>\n",
       "      <th>field1</th>\n",
       "      <th>field2</th>\n",
       "      <th>hour2</th>\n",
       "      <th>flag1</th>\n",
       "      <th>total</th>\n",
       "      <th>field3</th>\n",
       "      <th>field4</th>\n",
       "      <th>indicator1</th>\n",
       "      <th>indicator2</th>\n",
       "      <th>flag2</th>\n",
       "      <th>flag3</th>\n",
       "      <th>flag4</th>\n",
       "      <th>flag5</th>\n",
       "    </tr>\n",
       "  </thead>\n",
       "  <tbody>\n",
       "    <tr>\n",
       "      <th>77369</th>\n",
       "      <td>38.85</td>\n",
       "      <td>22</td>\n",
       "      <td>47</td>\n",
       "      <td>782</td>\n",
       "      <td>1234567890158846</td>\n",
       "      <td>2</td>\n",
       "      <td>0</td>\n",
       "      <td>22</td>\n",
       "      <td>1</td>\n",
       "      <td>38.85</td>\n",
       "      <td>3575</td>\n",
       "      <td>10</td>\n",
       "      <td>0</td>\n",
       "      <td>0</td>\n",
       "      <td>0</td>\n",
       "      <td>0</td>\n",
       "      <td>1</td>\n",
       "      <td>1</td>\n",
       "    </tr>\n",
       "    <tr>\n",
       "      <th>18229</th>\n",
       "      <td>49.95</td>\n",
       "      <td>18</td>\n",
       "      <td>23</td>\n",
       "      <td>210</td>\n",
       "      <td>1234567890138208</td>\n",
       "      <td>3</td>\n",
       "      <td>1</td>\n",
       "      <td>18</td>\n",
       "      <td>0</td>\n",
       "      <td>49.95</td>\n",
       "      <td>-6231</td>\n",
       "      <td>9</td>\n",
       "      <td>0</td>\n",
       "      <td>0</td>\n",
       "      <td>0</td>\n",
       "      <td>0</td>\n",
       "      <td>0</td>\n",
       "      <td>1</td>\n",
       "    </tr>\n",
       "    <tr>\n",
       "      <th>15307</th>\n",
       "      <td>11.01</td>\n",
       "      <td>21</td>\n",
       "      <td>25</td>\n",
       "      <td>496</td>\n",
       "      <td>1234567890135957</td>\n",
       "      <td>3</td>\n",
       "      <td>1</td>\n",
       "      <td>21</td>\n",
       "      <td>0</td>\n",
       "      <td>11.01</td>\n",
       "      <td>4014</td>\n",
       "      <td>23</td>\n",
       "      <td>0</td>\n",
       "      <td>0</td>\n",
       "      <td>0</td>\n",
       "      <td>0</td>\n",
       "      <td>0</td>\n",
       "      <td>1</td>\n",
       "    </tr>\n",
       "    <tr>\n",
       "      <th>27636</th>\n",
       "      <td>31.08</td>\n",
       "      <td>22</td>\n",
       "      <td>13</td>\n",
       "      <td>307</td>\n",
       "      <td>1234567890145337</td>\n",
       "      <td>2</td>\n",
       "      <td>1</td>\n",
       "      <td>22</td>\n",
       "      <td>1</td>\n",
       "      <td>31.08</td>\n",
       "      <td>3661</td>\n",
       "      <td>25</td>\n",
       "      <td>0</td>\n",
       "      <td>0</td>\n",
       "      <td>1</td>\n",
       "      <td>1</td>\n",
       "      <td>0</td>\n",
       "      <td>2</td>\n",
       "    </tr>\n",
       "    <tr>\n",
       "      <th>67305</th>\n",
       "      <td>12.95</td>\n",
       "      <td>0</td>\n",
       "      <td>13</td>\n",
       "      <td>317</td>\n",
       "      <td>1234567890174128</td>\n",
       "      <td>3</td>\n",
       "      <td>0</td>\n",
       "      <td>0</td>\n",
       "      <td>1</td>\n",
       "      <td>12.95</td>\n",
       "      <td>5329</td>\n",
       "      <td>21</td>\n",
       "      <td>0</td>\n",
       "      <td>0</td>\n",
       "      <td>1</td>\n",
       "      <td>1</td>\n",
       "      <td>0</td>\n",
       "      <td>1</td>\n",
       "    </tr>\n",
       "  </tbody>\n",
       "</table>\n",
       "</div>"
      ],
      "text/plain": [
       "       amount  hour1  state1  zip1         custAttr1  field1  field2  hour2  \\\n",
       "77369   38.85     22      47   782  1234567890158846       2       0     22   \n",
       "18229   49.95     18      23   210  1234567890138208       3       1     18   \n",
       "15307   11.01     21      25   496  1234567890135957       3       1     21   \n",
       "27636   31.08     22      13   307  1234567890145337       2       1     22   \n",
       "67305   12.95      0      13   317  1234567890174128       3       0      0   \n",
       "\n",
       "       flag1  total  field3  field4  indicator1  indicator2  flag2  flag3  \\\n",
       "77369      1  38.85    3575      10           0           0      0      0   \n",
       "18229      0  49.95   -6231       9           0           0      0      0   \n",
       "15307      0  11.01    4014      23           0           0      0      0   \n",
       "27636      1  31.08    3661      25           0           0      1      1   \n",
       "67305      1  12.95    5329      21           0           0      1      1   \n",
       "\n",
       "       flag4  flag5  \n",
       "77369      1      1  \n",
       "18229      0      1  \n",
       "15307      0      1  \n",
       "27636      0      2  \n",
       "67305      0      1  "
      ]
     },
     "execution_count": 105,
     "metadata": {},
     "output_type": "execute_result"
    }
   ],
   "source": [
    "print(trainB_X.shape)\n",
    "trainB_X.head()"
   ]
  },
  {
   "cell_type": "code",
   "execution_count": 106,
   "metadata": {},
   "outputs": [
    {
     "name": "stdout",
     "output_type": "stream",
     "text": [
      "(20000, 18)\n"
     ]
    },
    {
     "data": {
      "text/html": [
       "<div>\n",
       "<style scoped>\n",
       "    .dataframe tbody tr th:only-of-type {\n",
       "        vertical-align: middle;\n",
       "    }\n",
       "\n",
       "    .dataframe tbody tr th {\n",
       "        vertical-align: top;\n",
       "    }\n",
       "\n",
       "    .dataframe thead th {\n",
       "        text-align: right;\n",
       "    }\n",
       "</style>\n",
       "<table border=\"1\" class=\"dataframe\">\n",
       "  <thead>\n",
       "    <tr style=\"text-align: right;\">\n",
       "      <th></th>\n",
       "      <th>amount</th>\n",
       "      <th>hour1</th>\n",
       "      <th>state1</th>\n",
       "      <th>zip1</th>\n",
       "      <th>custAttr1</th>\n",
       "      <th>field1</th>\n",
       "      <th>field2</th>\n",
       "      <th>hour2</th>\n",
       "      <th>flag1</th>\n",
       "      <th>total</th>\n",
       "      <th>field3</th>\n",
       "      <th>field4</th>\n",
       "      <th>indicator1</th>\n",
       "      <th>indicator2</th>\n",
       "      <th>flag2</th>\n",
       "      <th>flag3</th>\n",
       "      <th>flag4</th>\n",
       "      <th>flag5</th>\n",
       "    </tr>\n",
       "  </thead>\n",
       "  <tbody>\n",
       "    <tr>\n",
       "      <th>16629</th>\n",
       "      <td>12.95</td>\n",
       "      <td>14</td>\n",
       "      <td>7</td>\n",
       "      <td>913</td>\n",
       "      <td>1234567890136955</td>\n",
       "      <td>3</td>\n",
       "      <td>0</td>\n",
       "      <td>14</td>\n",
       "      <td>1</td>\n",
       "      <td>12.95</td>\n",
       "      <td>-2062</td>\n",
       "      <td>6</td>\n",
       "      <td>0</td>\n",
       "      <td>0</td>\n",
       "      <td>0</td>\n",
       "      <td>0</td>\n",
       "      <td>0</td>\n",
       "      <td>1</td>\n",
       "    </tr>\n",
       "    <tr>\n",
       "      <th>85521</th>\n",
       "      <td>12.95</td>\n",
       "      <td>14</td>\n",
       "      <td>11</td>\n",
       "      <td>197</td>\n",
       "      <td>1234567890187042</td>\n",
       "      <td>0</td>\n",
       "      <td>0</td>\n",
       "      <td>14</td>\n",
       "      <td>1</td>\n",
       "      <td>12.95</td>\n",
       "      <td>2759</td>\n",
       "      <td>6</td>\n",
       "      <td>1</td>\n",
       "      <td>0</td>\n",
       "      <td>0</td>\n",
       "      <td>0</td>\n",
       "      <td>0</td>\n",
       "      <td>1</td>\n",
       "    </tr>\n",
       "    <tr>\n",
       "      <th>21143</th>\n",
       "      <td>12.95</td>\n",
       "      <td>22</td>\n",
       "      <td>32</td>\n",
       "      <td>681</td>\n",
       "      <td>1234567890140411</td>\n",
       "      <td>3</td>\n",
       "      <td>0</td>\n",
       "      <td>22</td>\n",
       "      <td>1</td>\n",
       "      <td>12.95</td>\n",
       "      <td>4552</td>\n",
       "      <td>8</td>\n",
       "      <td>0</td>\n",
       "      <td>0</td>\n",
       "      <td>1</td>\n",
       "      <td>1</td>\n",
       "      <td>0</td>\n",
       "      <td>1</td>\n",
       "    </tr>\n",
       "    <tr>\n",
       "      <th>42110</th>\n",
       "      <td>12.95</td>\n",
       "      <td>16</td>\n",
       "      <td>18</td>\n",
       "      <td>462</td>\n",
       "      <td>1234567890156076</td>\n",
       "      <td>2</td>\n",
       "      <td>0</td>\n",
       "      <td>16</td>\n",
       "      <td>0</td>\n",
       "      <td>12.95</td>\n",
       "      <td>4660</td>\n",
       "      <td>22</td>\n",
       "      <td>0</td>\n",
       "      <td>0</td>\n",
       "      <td>1</td>\n",
       "      <td>1</td>\n",
       "      <td>0</td>\n",
       "      <td>1</td>\n",
       "    </tr>\n",
       "    <tr>\n",
       "      <th>54476</th>\n",
       "      <td>10.36</td>\n",
       "      <td>16</td>\n",
       "      <td>6</td>\n",
       "      <td>852</td>\n",
       "      <td>1234567890125940</td>\n",
       "      <td>3</td>\n",
       "      <td>0</td>\n",
       "      <td>16</td>\n",
       "      <td>1</td>\n",
       "      <td>10.36</td>\n",
       "      <td>2815</td>\n",
       "      <td>9</td>\n",
       "      <td>0</td>\n",
       "      <td>0</td>\n",
       "      <td>1</td>\n",
       "      <td>1</td>\n",
       "      <td>0</td>\n",
       "      <td>1</td>\n",
       "    </tr>\n",
       "  </tbody>\n",
       "</table>\n",
       "</div>"
      ],
      "text/plain": [
       "       amount  hour1  state1  zip1         custAttr1  field1  field2  hour2  \\\n",
       "16629   12.95     14       7   913  1234567890136955       3       0     14   \n",
       "85521   12.95     14      11   197  1234567890187042       0       0     14   \n",
       "21143   12.95     22      32   681  1234567890140411       3       0     22   \n",
       "42110   12.95     16      18   462  1234567890156076       2       0     16   \n",
       "54476   10.36     16       6   852  1234567890125940       3       0     16   \n",
       "\n",
       "       flag1  total  field3  field4  indicator1  indicator2  flag2  flag3  \\\n",
       "16629      1  12.95   -2062       6           0           0      0      0   \n",
       "85521      1  12.95    2759       6           1           0      0      0   \n",
       "21143      1  12.95    4552       8           0           0      1      1   \n",
       "42110      0  12.95    4660      22           0           0      1      1   \n",
       "54476      1  10.36    2815       9           0           0      1      1   \n",
       "\n",
       "       flag4  flag5  \n",
       "16629      0      1  \n",
       "85521      0      1  \n",
       "21143      0      1  \n",
       "42110      0      1  \n",
       "54476      0      1  "
      ]
     },
     "execution_count": 106,
     "metadata": {},
     "output_type": "execute_result"
    }
   ],
   "source": [
    "print(testB_X.shape)\n",
    "testB_X.head()"
   ]
  },
  {
   "cell_type": "code",
   "execution_count": 107,
   "metadata": {},
   "outputs": [],
   "source": [
    "train_red_no = 3000\n",
    "\n",
    "trainB_np=np.zeros((train_red_no,trainB_X.shape[1]))\n",
    "for train_row_index in range(0,train_red_no):\n",
    "    trainB_sample_np = trainB_X.iloc[train_row_index,:].values\n",
    "    trainB_np[train_row_index] = trainB_sample_np / np.linalg.norm(trainB_sample_np)"
   ]
  },
  {
   "cell_type": "code",
   "execution_count": 109,
   "metadata": {},
   "outputs": [],
   "source": [
    "knn_table={}\n",
    "for test_row_index in range(0,testB_X.shape[0]):\n",
    "    \n",
    "    testB_sample_np = testB_X.iloc[test_row_index,:].values\n",
    "    testB_sample_np = testB_sample_np / np.linalg.norm(testB_sample_np)\n",
    "    \n",
    "    knn_table[test_row_index] = []\n",
    "    \n",
    "    for train_row_index in range(0,train_red_no):\n",
    "        \n",
    "        d = distance.euclidean(trainB_np[train_row_index],testB_sample_np)\n",
    "        c = trainB_Y.iloc[train_row_index,:].values[0]\n",
    "        \n",
    "        knn_table[test_row_index].append((d,c))"
   ]
  },
  {
   "cell_type": "code",
   "execution_count": 110,
   "metadata": {},
   "outputs": [],
   "source": [
    "for test_row_index in knn_table:\n",
    "    knn_table[test_row_index] = sorted(knn_table[test_row_index], key=lambda tup: tup[0])"
   ]
  },
  {
   "cell_type": "code",
   "execution_count": 117,
   "metadata": {},
   "outputs": [
    {
     "name": "stdout",
     "output_type": "stream",
     "text": [
      "K value: 1 Accuracy: 0.96115\n",
      "Confusion matrix:\n",
      "TP:  97 FN: 455\n",
      "FP:  322 TN: 19126\n",
      "K value: 2 Accuracy: 0.9493\n",
      "Confusion matrix:\n",
      "TP:  140 FN: 412\n",
      "FP:  602 TN: 18846\n",
      "K value: 3 Accuracy: 0.9749\n",
      "Confusion matrix:\n",
      "TP:  85 FN: 467\n",
      "FP:  35 TN: 19413\n",
      "K value: 4 Accuracy: 0.97375\n",
      "Confusion matrix:\n",
      "TP:  91 FN: 461\n",
      "FP:  64 TN: 19384\n",
      "K value: 5 Accuracy: 0.9748\n",
      "Confusion matrix:\n",
      "TP:  60 FN: 492\n",
      "FP:  12 TN: 19436\n",
      "K value: 6 Accuracy: 0.9747\n",
      "Confusion matrix:\n",
      "TP:  60 FN: 492\n",
      "FP:  14 TN: 19434\n",
      "K value: 7 Accuracy: 0.97425\n",
      "Confusion matrix:\n",
      "TP:  48 FN: 504\n",
      "FP:  11 TN: 19437\n",
      "K value: 8 Accuracy: 0.97425\n",
      "Confusion matrix:\n",
      "TP:  48 FN: 504\n",
      "FP:  11 TN: 19437\n",
      "K value: 9 Accuracy: 0.97385\n",
      "Confusion matrix:\n",
      "TP:  39 FN: 513\n",
      "FP:  10 TN: 19438\n",
      "K value: 10 Accuracy: 0.97385\n",
      "Confusion matrix:\n",
      "TP:  39 FN: 513\n",
      "FP:  10 TN: 19438\n"
     ]
    }
   ],
   "source": [
    "for k in range(1,11):\n",
    "    pred_knn = []\n",
    "\n",
    "    for test_index in range(0,testB_X.shape[0]):\n",
    "        zero_count = 0\n",
    "        one_count = 0\n",
    "\n",
    "        for count in range(0,k):\n",
    "            if(knn_table[test_index][count][1]==0):\n",
    "                zero_count = zero_count + 1\n",
    "            else:\n",
    "                one_count = one_count + 1\n",
    "\n",
    "        if (zero_count > one_count):\n",
    "            pred_knn.append(0)\n",
    "        else:\n",
    "            pred_knn.append(1)\n",
    "            \n",
    "    TP=0;FN=0;FP=0;TN=0\n",
    "    for i in range(0,len(pred_knn)):\n",
    "        if ((pred_knn[i]==1)&(y_testB[i]==1)):\n",
    "            TP=TP+1\n",
    "        if ((pred_knn[i]==0)&(y_testB[i]==1)):\n",
    "            FN=FN+1\n",
    "        if ((pred_knn[i]==1)&(y_testB[i]==0)):\n",
    "            FP=FP+1\n",
    "        if ((pred_knn[i]==0)&(y_testB[i]==0)):\n",
    "            TN=TN+1\n",
    "\n",
    "    Accuracy=(TP+TN)/(TP+TN+FP+FN)\n",
    "    print(\"K value:\",k,\"Accuracy:\",Accuracy)\n",
    "    \n",
    "    print(\"Confusion matrix:\")\n",
    "    print(\"TP: \",TP,\"FN:\",FN)\n",
    "    print(\"FP: \",FP,\"TN:\",TN)"
   ]
  },
  {
   "cell_type": "code",
   "execution_count": 118,
   "metadata": {},
   "outputs": [],
   "source": [
    "k = 1\n",
    "pred_knn = []\n",
    "\n",
    "for test_index in range(0,testB_X.shape[0]):\n",
    "    zero_count = 0\n",
    "    one_count = 0\n",
    "\n",
    "    for count in range(0,k):\n",
    "        if(knn_table[test_index][count][1]==0):\n",
    "            zero_count = zero_count + 1\n",
    "        else:\n",
    "            one_count = one_count + 1\n",
    "\n",
    "    if (zero_count > one_count):\n",
    "        pred_knn.append(0)\n",
    "    else:\n",
    "        pred_knn.append(1)"
   ]
  },
  {
   "cell_type": "code",
   "execution_count": 119,
   "metadata": {},
   "outputs": [
    {
     "name": "stdout",
     "output_type": "stream",
     "text": [
      "Accuracy: 0.96115\n",
      "Confusion matrix:\n",
      "TP:  97 FN: 455\n",
      "FP:  322 TN: 19126\n",
      "Precision: 0.2315035799522673\n",
      "Recall: 0.17572463768115942\n",
      "F1 score: 0.19979402677651906\n",
      "TPR: 0.17572463768115942\n",
      "FPR: 0.01655697243932538\n"
     ]
    }
   ],
   "source": [
    "confuse(y_testB,pred_knn)"
   ]
  },
  {
   "cell_type": "code",
   "execution_count": 1,
   "metadata": {},
   "outputs": [
    {
     "name": "stdout",
     "output_type": "stream",
     "text": [
      "Accuracy: 0.96115\n",
      "Confusion matrix:\n",
      "TP:  97 FN: 455\n",
      "FP:  322 TN: 19126\n",
      "Precision: 0.2315035799522673\n",
      "Recall: 0.17572463768115942\n",
      "F1 score: 0.19979402677651906\n",
      "TPR: 0.17572463768115942\n",
      "FPR: 0.01655697243932538\n"
     ]
    }
   ],
   "source": [
    "confuse(y_testB,pred_knn)"
   ]
  },
  {
   "cell_type": "code",
   "execution_count": 120,
   "metadata": {},
   "outputs": [
    {
     "data": {
      "image/png": "[encoded data removed]",
      "text/plain": [
       "<matplotlib.figure.Figure at 0x1efaca51ef0>"
      ]
     },
     "metadata": {},
     "output_type": "display_data"
    }
   ],
   "source": [
    "plt.figure()\n",
    "plt.plot(0.01655697243932538, 0.17572463768115942, 'ro')\n",
    "plt.plot([0, 1], [0, 1], color='navy', linestyle='--')\n",
    "plt.xlim([0.0, 1.0])\n",
    "plt.ylim([0.0, 1.05])\n",
    "plt.xlabel('False Positive Rate')\n",
    "plt.ylabel('True Positive Rate')\n",
    "plt.title('Receiver operating characteristic')\n",
    "plt.show()"
   ]
  },
  {
   "cell_type": "code",
   "execution_count": 147,
   "metadata": {},
   "outputs": [],
   "source": [
    "k = 1\n",
    "pred_knn = []\n",
    "\n",
    "for test_index in range(0,testB_X.shape[0]):\n",
    "    zero_count = 0\n",
    "    one_count = 0\n",
    "\n",
    "    for count in range(0,k):\n",
    "        if(knn_table[test_index][count][1]==0):\n",
    "            zero_count = zero_count + 1\n",
    "        else:\n",
    "            one_count = one_count + 1\n",
    "\n",
    "    if (zero_count > one_count):\n",
    "        pred_knn.append(0)\n",
    "    else:\n",
    "        pred_knn.append(1)"
   ]
  },
  {
   "cell_type": "code",
   "execution_count": 148,
   "metadata": {},
   "outputs": [
    {
     "name": "stdout",
     "output_type": "stream",
     "text": [
      "Accuracy: 0.96115\n",
      "Confusion matrix:\n",
      "TP:  97 FN: 455\n",
      "FP:  322 TN: 19126\n",
      "Precision: 0.2315035799522673\n",
      "Recall: 0.17572463768115942\n",
      "F1 score: 0.19979402677651906\n",
      "TPR: 0.17572463768115942\n",
      "FPR: 0.01655697243932538\n"
     ]
    }
   ],
   "source": [
    "confuse(y_testB,pred_knn)"
   ]
  },
  {
   "cell_type": "code",
   "execution_count": 149,
   "metadata": {},
   "outputs": [
    {
     "data": {
      "image/png": "[encoded data removed]",
      "text/plain": [
       "<matplotlib.figure.Figure at 0x1f14cde04e0>"
      ]
     },
     "metadata": {},
     "output_type": "display_data"
    }
   ],
   "source": [
    "plt.figure()\n",
    "plt.plot(0.01655697243932538, 0.17572463768115942, 'ro')\n",
    "plt.plot([0, 1], [0, 1], color='navy', linestyle='--')\n",
    "plt.xlim([0.0, 1.0])\n",
    "plt.ylim([0.0, 1.05])\n",
    "plt.xlabel('False Positive Rate')\n",
    "plt.ylabel('True Positive Rate')\n",
    "plt.title('Receiver operating characteristic')\n",
    "plt.show()"
   ]
  },
  {
   "cell_type": "markdown",
   "metadata": {},
   "source": [
    "There is no sign of overfitting as the accuracy over training and testing data are both high."
   ]
  },
  {
   "cell_type": "markdown",
   "metadata": {},
   "source": [
    "To deal with skewed distribution I would adopt 2 methods:\n",
    "1. Use cost matrix\n",
    "OR\n",
    "2. Reduce data to make sure that positive category is atleast a significant portion ,say 30% "
   ]
  },
  {
   "cell_type": "markdown",
   "metadata": {},
   "source": [
    "I would pick logistic regression because:\n",
    "    1. It has better accuracy rate\n",
    "    2. Better number of TP values\n",
    "    3. Computatationally inexpensive than kNN\n",
    "    4. No overfitting of data"
   ]
  }
 ],
 "metadata": {
  "kernelspec": {
   "display_name": "Python 3",
   "language": "python",
   "name": "python3"
  },
  "language_info": {
   "codemirror_mode": {
    "name": "ipython",
    "version": 3
   },
   "file_extension": ".py",
   "mimetype": "text/x-python",
   "name": "python",
   "nbconvert_exporter": "python",
   "pygments_lexer": "ipython3",
   "version": "3.7.3"
  }
 },
 "nbformat": 4,
 "nbformat_minor": 2
}
